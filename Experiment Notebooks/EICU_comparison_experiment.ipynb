{
  "nbformat": 4,
  "nbformat_minor": 0,
  "metadata": {
    "colab": {
      "provenance": [],
      "include_colab_link": true
    },
    "kernelspec": {
      "name": "python3",
      "display_name": "Python 3"
    },
    "language_info": {
      "name": "python"
    }
  },
  "cells": [
    {
      "cell_type": "markdown",
      "metadata": {
        "id": "view-in-github",
        "colab_type": "text"
      },
      "source": [
        "<a href=\"https://colab.research.google.com/github/aniketsharma00411/MultiFairGAN/blob/main/Experiment%20Notebooks/EICU_comparison_experiment.ipynb\" target=\"_parent\"><img src=\"https://colab.research.google.com/assets/colab-badge.svg\" alt=\"Open In Colab\"/></a>"
      ]
    },
    {
      "cell_type": "markdown",
      "source": [
        "# Initialization"
      ],
      "metadata": {
        "id": "ohAqSToXHAY5"
      }
    },
    {
      "cell_type": "code",
      "execution_count": 1,
      "metadata": {
        "id": "k5wOrr1jWzty"
      },
      "outputs": [],
      "source": [
        "import pandas as pd\n",
        "import numpy as np\n",
        "import matplotlib.pyplot as plt\n",
        "from sklearn.model_selection import train_test_split\n",
        "from sklearn.metrics import f1_score, average_precision_score\n",
        "from sklearn.tree import DecisionTreeClassifier\n",
        "from sklearn.preprocessing import LabelEncoder"
      ]
    },
    {
      "cell_type": "code",
      "source": [
        "! pip install -q fairlearn\n",
        "from fairlearn.metrics import demographic_parity_ratio, demographic_parity_difference"
      ],
      "metadata": {
        "colab": {
          "base_uri": "https://localhost:8080/"
        },
        "id": "0TLjzGnpW40x",
        "outputId": "faac9ea2-6d70-48e5-afb1-a175852fcbe4"
      },
      "execution_count": 2,
      "outputs": [
        {
          "output_type": "stream",
          "name": "stdout",
          "text": [
            "\u001b[?25l     \u001b[90m━━━━━━━━━━━━━━━━━━━━━━━━━━━━━━━━━━━━━━━━\u001b[0m \u001b[32m0.0/231.5 kB\u001b[0m \u001b[31m?\u001b[0m eta \u001b[36m-:--:--\u001b[0m\r\u001b[2K     \u001b[91m━━━━━━━━━━━━━━━━━━\u001b[0m\u001b[91m╸\u001b[0m\u001b[90m━━━━━━━━━━━━━━━━━━━━\u001b[0m \u001b[32m112.6/231.5 kB\u001b[0m \u001b[31m2.8 MB/s\u001b[0m eta \u001b[36m0:00:01\u001b[0m\r\u001b[2K     \u001b[90m━━━━━━━━━━━━━━━━━━━━━━━━━━━━━━━━━━━━━━━\u001b[0m \u001b[32m231.5/231.5 kB\u001b[0m \u001b[31m3.8 MB/s\u001b[0m eta \u001b[36m0:00:00\u001b[0m\n",
            "\u001b[?25h"
          ]
        }
      ]
    },
    {
      "cell_type": "markdown",
      "source": [
        "# Loading Datasets"
      ],
      "metadata": {
        "id": "QM8rLkRwHNG1"
      }
    },
    {
      "cell_type": "code",
      "source": [
        "from google.colab import drive\n",
        "drive.mount('/content/drive', force_remount= True)"
      ],
      "metadata": {
        "colab": {
          "base_uri": "https://localhost:8080/"
        },
        "id": "dGYUynPLW-kh",
        "outputId": "c2aa47bf-17ad-4b48-e1bc-2a074c9cc5a7"
      },
      "execution_count": 3,
      "outputs": [
        {
          "output_type": "stream",
          "name": "stdout",
          "text": [
            "Mounted at /content/drive\n"
          ]
        }
      ]
    },
    {
      "cell_type": "code",
      "source": [
        "orig = pd.read_csv('/content/drive/Shareddrives/TRAM - FairSyntheticData/Experiments/Data/eicu_age.csv')\n",
        "ctgan = pd.read_csv('/content/drive/Shareddrives/TRAM - FairSyntheticData/Experiments/Data/EICU_ctgan.csv')\n",
        "tabfairgan = pd.read_csv('/content/drive/Shareddrives/TRAM - FairSyntheticData/Experiments/Data/EICU_tabfairgan_0.4_20.csv')\n",
        "distcorrgan = pd.read_csv('/content/drive/Shareddrives/TRAM - FairSyntheticData/Experiments/Data/EICU_distcorrGAN_0.3.csv')\n",
        "proposed_dpr = pd.read_csv('/content/drive/Shareddrives/TRAM - FairSyntheticData/Experiments/Data/EICU_ctgan_dpr_0.5_30.csv')\n",
        "proposed_dpd = pd.read_csv('/content/drive/Shareddrives/TRAM - FairSyntheticData/Experiments/Data/EICU_ctgan_dpd_0.5_20.csv')\n",
        "proposed_additive_dpr = pd.read_csv('/content/drive/Shareddrives/TRAM - FairSyntheticData/Experiments/Data/EICU_ctgan_dpr_additive_0.5_200.csv')\n",
        "proposed_additive_dpd = pd.read_csv('/content/drive/Shareddrives/TRAM - FairSyntheticData/Experiments/Data/EICU_ctgan_dpd_additive_0.4_200.csv')\n",
        "proposed_dpr_ethn = pd.read_csv('/content/drive/Shareddrives/TRAM - FairSyntheticData/Experiments/Data/EICU_ctgan_dpr_0.7_20_ethnicity.csv')\n",
        "proposed_dpd_ethn = pd.read_csv('/content/drive/Shareddrives/TRAM - FairSyntheticData/Experiments/Data/EICU_ctgan_dpd_0.4_20_ethnicity.csv')\n",
        "proposed_additive_dpr_ethn = pd.read_csv('/content/drive/Shareddrives/TRAM - FairSyntheticData/Experiments/Data/EICU_ctgan_dpr_additive_0.8_200_ethnicity.csv')\n",
        "proposed_additive_dpd_ethn = pd.read_csv('/content/drive/Shareddrives/TRAM - FairSyntheticData/Experiments/Data/EICU_ctgan_dpd_additive_0.8_200_ethnicity.csv')"
      ],
      "metadata": {
        "id": "l5O3AW77XEG5"
      },
      "execution_count": 4,
      "outputs": []
    },
    {
      "cell_type": "markdown",
      "source": [
        "# Metric Evaluation"
      ],
      "metadata": {
        "id": "Q9IMs0kjFLC9"
      }
    },
    {
      "cell_type": "code",
      "source": [
        "iters = 20\n",
        "metric_eval = {}"
      ],
      "metadata": {
        "id": "uAqWewOBronS"
      },
      "execution_count": 5,
      "outputs": []
    },
    {
      "cell_type": "code",
      "source": [
        "cat_features = ['gender', 'ethnicity', 'apacheadmissiondx', 'hospitaladmitsource', 'unittype', 'AgeGroup']"
      ],
      "metadata": {
        "id": "yPgRxPtF0Rto"
      },
      "execution_count": 6,
      "outputs": []
    },
    {
      "cell_type": "markdown",
      "source": [
        "##  Real Data"
      ],
      "metadata": {
        "id": "0iOvl6rM0T8b"
      }
    },
    {
      "cell_type": "code",
      "source": [
        "for feat in cat_features:\n",
        "    orig[feat] = LabelEncoder().fit_transform(orig[feat])"
      ],
      "metadata": {
        "id": "aMWF1QUimx65"
      },
      "execution_count": 7,
      "outputs": []
    },
    {
      "cell_type": "code",
      "source": [
        "X = orig.drop(columns=['hospitaldischargestatus'])\n",
        "y = LabelEncoder().fit_transform(orig['hospitaldischargestatus'])\n",
        "\n",
        "data_dpr_eth = demographic_parity_ratio(y_true=y, y_pred=y, sensitive_features=X['ethnicity'])\n",
        "data_dpd_eth = demographic_parity_difference(y_true=y, y_pred=y, sensitive_features=X['ethnicity'])\n",
        "data_dpr_ins = demographic_parity_ratio(y_true=y, y_pred=y, sensitive_features=X['AgeGroup'])\n",
        "data_dpd_ins = demographic_parity_difference(y_true=y, y_pred=y, sensitive_features=X['AgeGroup'])\n",
        "\n",
        "taucpr = 0\n",
        "tf1 = 0\n",
        "tdpr_eth = 0\n",
        "tdpd_eth = 0\n",
        "tdpr_ins = 0\n",
        "tdpd_ins = 0\n",
        "for i in range(iters):\n",
        "    X_train, X_test, y_train, y_test = train_test_split(X, y, test_size=0.3, random_state=i)\n",
        "\n",
        "    DT= DecisionTreeClassifier(random_state=i)\n",
        "    DT.fit(X_train, y_train)\n",
        "    y_pred = DT.predict(X_test)\n",
        "\n",
        "    aucpr = average_precision_score(y_test, y_pred)\n",
        "    f1 = f1_score(y_test, y_pred)\n",
        "\n",
        "    dpr_eth = demographic_parity_ratio(y_true=y_test, y_pred=y_pred, sensitive_features=X_test['ethnicity'])\n",
        "    dpd_eth = demographic_parity_difference(y_true=y_test, y_pred=y_pred, sensitive_features=X_test['ethnicity'])\n",
        "    dpr_ins = demographic_parity_ratio(y_true=y_test, y_pred=y_pred, sensitive_features=X_test['AgeGroup'])\n",
        "    dpd_ins = demographic_parity_difference(y_true=y_test, y_pred=y_pred, sensitive_features=X_test['AgeGroup'])\n",
        "\n",
        "    taucpr += aucpr\n",
        "    tf1 += f1\n",
        "    tdpr_eth += dpr_eth\n",
        "    tdpd_eth += dpd_eth\n",
        "    tdpr_ins += dpr_ins\n",
        "    tdpd_ins += dpd_ins\n",
        "\n",
        "metric_eval['Real Data'] = [data_dpr_eth, data_dpd_eth, data_dpr_ins, data_dpd_ins, taucpr/iters, tf1/iters, tdpr_eth/iters, tdpd_eth/iters, tdpr_ins/iters, tdpd_ins/iters]"
      ],
      "metadata": {
        "id": "AHm6OjKLo0nX"
      },
      "execution_count": 8,
      "outputs": []
    },
    {
      "cell_type": "markdown",
      "source": [
        "##  CTGAN"
      ],
      "metadata": {
        "id": "wPnM41uy7-27"
      }
    },
    {
      "cell_type": "code",
      "source": [
        "for feat in cat_features:\n",
        "    ctgan[feat] = LabelEncoder().fit_transform(ctgan[feat])"
      ],
      "metadata": {
        "id": "J7qXLWRJ7-3P"
      },
      "execution_count": 9,
      "outputs": []
    },
    {
      "cell_type": "code",
      "source": [
        "X = ctgan.drop(columns=['hospitaldischargestatus'])\n",
        "y = LabelEncoder().fit_transform(ctgan['hospitaldischargestatus'])\n",
        "\n",
        "data_dpr_eth = demographic_parity_ratio(y_true=y, y_pred=y, sensitive_features=X['ethnicity'])\n",
        "data_dpd_eth = demographic_parity_difference(y_true=y, y_pred=y, sensitive_features=X['ethnicity'])\n",
        "data_dpr_ins = demographic_parity_ratio(y_true=y, y_pred=y, sensitive_features=X['AgeGroup'])\n",
        "data_dpd_ins = demographic_parity_difference(y_true=y, y_pred=y, sensitive_features=X['AgeGroup'])\n",
        "\n",
        "taucpr = 0\n",
        "tf1 = 0\n",
        "tdpr_eth = 0\n",
        "tdpd_eth = 0\n",
        "tdpr_ins = 0\n",
        "tdpd_ins = 0\n",
        "for i in range(iters):\n",
        "    X_train, X_test, y_train, y_test = train_test_split(X, y, test_size=0.3, random_state=i)\n",
        "\n",
        "    DT= DecisionTreeClassifier(random_state=i)\n",
        "    DT.fit(X_train, y_train)\n",
        "    y_pred = DT.predict(X_test)\n",
        "\n",
        "    aucpr = average_precision_score(y_test, y_pred)\n",
        "    f1 = f1_score(y_test, y_pred)\n",
        "\n",
        "    dpr_eth = demographic_parity_ratio(y_true=y_test, y_pred=y_pred, sensitive_features=X_test['ethnicity'])\n",
        "    dpd_eth = demographic_parity_difference(y_true=y_test, y_pred=y_pred, sensitive_features=X_test['ethnicity'])\n",
        "    dpr_ins = demographic_parity_ratio(y_true=y_test, y_pred=y_pred, sensitive_features=X_test['AgeGroup'])\n",
        "    dpd_ins = demographic_parity_difference(y_true=y_test, y_pred=y_pred, sensitive_features=X_test['AgeGroup'])\n",
        "\n",
        "    taucpr += aucpr\n",
        "    tf1 += f1\n",
        "    tdpr_eth += dpr_eth\n",
        "    tdpd_eth += dpd_eth\n",
        "    tdpr_ins += dpr_ins\n",
        "    tdpd_ins += dpd_ins\n",
        "\n",
        "metric_eval['CTGAN'] = [data_dpr_eth, data_dpd_eth, data_dpr_ins, data_dpd_ins, taucpr/iters, tf1/iters, tdpr_eth/iters, tdpd_eth/iters, tdpr_ins/iters, tdpd_ins/iters]"
      ],
      "metadata": {
        "id": "huYt-NOc7-3Q"
      },
      "execution_count": 10,
      "outputs": []
    },
    {
      "cell_type": "markdown",
      "source": [
        "##  TabFairGAN"
      ],
      "metadata": {
        "id": "t02omaoR8zkI"
      }
    },
    {
      "cell_type": "code",
      "source": [
        "for feat in cat_features:\n",
        "    tabfairgan[feat] = LabelEncoder().fit_transform(tabfairgan[feat])"
      ],
      "metadata": {
        "id": "hbU69js68zkJ"
      },
      "execution_count": 11,
      "outputs": []
    },
    {
      "cell_type": "code",
      "source": [
        "X = tabfairgan.drop(columns=['hospitaldischargestatus'])\n",
        "y = LabelEncoder().fit_transform(tabfairgan['hospitaldischargestatus'])\n",
        "\n",
        "data_dpr_eth = demographic_parity_ratio(y_true=y, y_pred=y, sensitive_features=X['ethnicity'])\n",
        "data_dpd_eth = demographic_parity_difference(y_true=y, y_pred=y, sensitive_features=X['ethnicity'])\n",
        "data_dpr_ins = demographic_parity_ratio(y_true=y, y_pred=y, sensitive_features=X['AgeGroup'])\n",
        "data_dpd_ins = demographic_parity_difference(y_true=y, y_pred=y, sensitive_features=X['AgeGroup'])\n",
        "\n",
        "taucpr = 0\n",
        "tf1 = 0\n",
        "tdpr_eth = 0\n",
        "tdpd_eth = 0\n",
        "tdpr_ins = 0\n",
        "tdpd_ins = 0\n",
        "for i in range(iters):\n",
        "    X_train, X_test, y_train, y_test = train_test_split(X, y, test_size=0.3, random_state=i)\n",
        "\n",
        "    DT= DecisionTreeClassifier(random_state=i)\n",
        "    DT.fit(X_train, y_train)\n",
        "    y_pred = DT.predict(X_test)\n",
        "\n",
        "    aucpr = average_precision_score(y_test, y_pred)\n",
        "    f1 = f1_score(y_test, y_pred)\n",
        "\n",
        "    dpr_eth = demographic_parity_ratio(y_true=y_test, y_pred=y_pred, sensitive_features=X_test['ethnicity'])\n",
        "    dpd_eth = demographic_parity_difference(y_true=y_test, y_pred=y_pred, sensitive_features=X_test['ethnicity'])\n",
        "    dpr_ins = demographic_parity_ratio(y_true=y_test, y_pred=y_pred, sensitive_features=X_test['AgeGroup'])\n",
        "    dpd_ins = demographic_parity_difference(y_true=y_test, y_pred=y_pred, sensitive_features=X_test['AgeGroup'])\n",
        "\n",
        "    taucpr += aucpr\n",
        "    tf1 += f1\n",
        "    tdpr_eth += dpr_eth\n",
        "    tdpd_eth += dpd_eth\n",
        "    tdpr_ins += dpr_ins\n",
        "    tdpd_ins += dpd_ins\n",
        "\n",
        "metric_eval['TabFairGAN'] = [data_dpr_eth, data_dpd_eth, data_dpr_ins, data_dpd_ins, taucpr/iters, tf1/iters, tdpr_eth/iters, tdpd_eth/iters, tdpr_ins/iters, tdpd_ins/iters]"
      ],
      "metadata": {
        "id": "499UIDDz8zkJ"
      },
      "execution_count": 12,
      "outputs": []
    },
    {
      "cell_type": "markdown",
      "source": [
        "##  Distance Correlation GAN"
      ],
      "metadata": {
        "id": "C0fMhH1s8zp-"
      }
    },
    {
      "cell_type": "code",
      "source": [
        "for feat in cat_features:\n",
        "    distcorrgan[feat] = LabelEncoder().fit_transform(distcorrgan[feat])"
      ],
      "metadata": {
        "id": "xusA-msS8zp_"
      },
      "execution_count": 13,
      "outputs": []
    },
    {
      "cell_type": "code",
      "source": [
        "X = distcorrgan.drop(columns=['hospitaldischargestatus'])\n",
        "y = LabelEncoder().fit_transform(distcorrgan['hospitaldischargestatus'])\n",
        "\n",
        "data_dpr_eth = demographic_parity_ratio(y_true=y, y_pred=y, sensitive_features=X['ethnicity'])\n",
        "data_dpd_eth = demographic_parity_difference(y_true=y, y_pred=y, sensitive_features=X['ethnicity'])\n",
        "data_dpr_ins = demographic_parity_ratio(y_true=y, y_pred=y, sensitive_features=X['AgeGroup'])\n",
        "data_dpd_ins = demographic_parity_difference(y_true=y, y_pred=y, sensitive_features=X['AgeGroup'])\n",
        "\n",
        "taucpr = 0\n",
        "tf1 = 0\n",
        "tdpr_eth = 0\n",
        "tdpd_eth = 0\n",
        "tdpr_ins = 0\n",
        "tdpd_ins = 0\n",
        "for i in range(iters):\n",
        "    X_train, X_test, y_train, y_test = train_test_split(X, y, test_size=0.3, random_state=i)\n",
        "\n",
        "    DT= DecisionTreeClassifier(random_state=i)\n",
        "    DT.fit(X_train, y_train)\n",
        "    y_pred = DT.predict(X_test)\n",
        "\n",
        "    aucpr = average_precision_score(y_test, y_pred)\n",
        "    f1 = f1_score(y_test, y_pred)\n",
        "\n",
        "    dpr_eth = demographic_parity_ratio(y_true=y_test, y_pred=y_pred, sensitive_features=X_test['ethnicity'])\n",
        "    dpd_eth = demographic_parity_difference(y_true=y_test, y_pred=y_pred, sensitive_features=X_test['ethnicity'])\n",
        "    dpr_ins = demographic_parity_ratio(y_true=y_test, y_pred=y_pred, sensitive_features=X_test['AgeGroup'])\n",
        "    dpd_ins = demographic_parity_difference(y_true=y_test, y_pred=y_pred, sensitive_features=X_test['AgeGroup'])\n",
        "\n",
        "    taucpr += aucpr\n",
        "    tf1 += f1\n",
        "    tdpr_eth += dpr_eth\n",
        "    tdpd_eth += dpd_eth\n",
        "    tdpr_ins += dpr_ins\n",
        "    tdpd_ins += dpd_ins\n",
        "\n",
        "metric_eval['Distance Correlation GAN'] = [data_dpr_eth, data_dpd_eth, data_dpr_ins, data_dpd_ins, taucpr/iters, tf1/iters, tdpr_eth/iters, tdpd_eth/iters, tdpr_ins/iters, tdpd_ins/iters]"
      ],
      "metadata": {
        "id": "1cyEnpuf8zp_"
      },
      "execution_count": 14,
      "outputs": []
    },
    {
      "cell_type": "markdown",
      "source": [
        "##  MultiFairGAN w/ DPR (Ethnicity and Insurance) (Two-cycle Strategy)(Ethnicity and Insurance) (Two-cycle Strategy)"
      ],
      "metadata": {
        "id": "w7giNqkL8zvk"
      }
    },
    {
      "cell_type": "code",
      "source": [
        "for feat in cat_features:\n",
        "    proposed_dpr[feat] = LabelEncoder().fit_transform(proposed_dpr[feat])"
      ],
      "metadata": {
        "id": "mN8UpLHc8zvm"
      },
      "execution_count": 15,
      "outputs": []
    },
    {
      "cell_type": "code",
      "source": [
        "X = proposed_dpr.drop(columns=['hospitaldischargestatus'])\n",
        "y = LabelEncoder().fit_transform(proposed_dpr['hospitaldischargestatus'])\n",
        "\n",
        "data_dpr_eth = demographic_parity_ratio(y_true=y, y_pred=y, sensitive_features=X['ethnicity'])\n",
        "data_dpd_eth = demographic_parity_difference(y_true=y, y_pred=y, sensitive_features=X['ethnicity'])\n",
        "data_dpr_ins = demographic_parity_ratio(y_true=y, y_pred=y, sensitive_features=X['AgeGroup'])\n",
        "data_dpd_ins = demographic_parity_difference(y_true=y, y_pred=y, sensitive_features=X['AgeGroup'])\n",
        "\n",
        "taucpr = 0\n",
        "tf1 = 0\n",
        "tdpr_eth = 0\n",
        "tdpd_eth = 0\n",
        "tdpr_ins = 0\n",
        "tdpd_ins = 0\n",
        "for i in range(iters):\n",
        "    X_train, X_test, y_train, y_test = train_test_split(X, y, test_size=0.3, random_state=i)\n",
        "\n",
        "    DT= DecisionTreeClassifier(random_state=i)\n",
        "    DT.fit(X_train, y_train)\n",
        "    y_pred = DT.predict(X_test)\n",
        "\n",
        "    aucpr = average_precision_score(y_test, y_pred)\n",
        "    f1 = f1_score(y_test, y_pred)\n",
        "\n",
        "    dpr_eth = demographic_parity_ratio(y_true=y_test, y_pred=y_pred, sensitive_features=X_test['ethnicity'])\n",
        "    dpd_eth = demographic_parity_difference(y_true=y_test, y_pred=y_pred, sensitive_features=X_test['ethnicity'])\n",
        "    dpr_ins = demographic_parity_ratio(y_true=y_test, y_pred=y_pred, sensitive_features=X_test['AgeGroup'])\n",
        "    dpd_ins = demographic_parity_difference(y_true=y_test, y_pred=y_pred, sensitive_features=X_test['AgeGroup'])\n",
        "\n",
        "    taucpr += aucpr\n",
        "    tf1 += f1\n",
        "    tdpr_eth += dpr_eth\n",
        "    tdpd_eth += dpd_eth\n",
        "    tdpr_ins += dpr_ins\n",
        "    tdpd_ins += dpd_ins\n",
        "\n",
        "metric_eval['MultiFairGAN w/ DPR (Ethnicity and Insurance) (Two-cycle Strategy)'] = [data_dpr_eth, data_dpd_eth, data_dpr_ins, data_dpd_ins, taucpr/iters, tf1/iters, tdpr_eth/iters, tdpd_eth/iters, tdpr_ins/iters, tdpd_ins/iters]"
      ],
      "metadata": {
        "id": "HtbzaAL_8zvo"
      },
      "execution_count": 16,
      "outputs": []
    },
    {
      "cell_type": "markdown",
      "source": [
        "##  MultiFairGAN w/ DPD (Ethnicity and Insurance) (Two-cycle Strategy)"
      ],
      "metadata": {
        "id": "ghVOKkdo8z1X"
      }
    },
    {
      "cell_type": "code",
      "source": [
        "for feat in cat_features:\n",
        "    proposed_dpd[feat] = LabelEncoder().fit_transform(proposed_dpd[feat])"
      ],
      "metadata": {
        "id": "jruMvvfX8z1X"
      },
      "execution_count": 17,
      "outputs": []
    },
    {
      "cell_type": "code",
      "source": [
        "X = proposed_dpd.drop(columns=['hospitaldischargestatus'])\n",
        "y = LabelEncoder().fit_transform(proposed_dpd['hospitaldischargestatus'])\n",
        "\n",
        "data_dpr_eth = demographic_parity_ratio(y_true=y, y_pred=y, sensitive_features=X['ethnicity'])\n",
        "data_dpd_eth = demographic_parity_difference(y_true=y, y_pred=y, sensitive_features=X['ethnicity'])\n",
        "data_dpr_ins = demographic_parity_ratio(y_true=y, y_pred=y, sensitive_features=X['AgeGroup'])\n",
        "data_dpd_ins = demographic_parity_difference(y_true=y, y_pred=y, sensitive_features=X['AgeGroup'])\n",
        "\n",
        "taucpr = 0\n",
        "tf1 = 0\n",
        "tdpr_eth = 0\n",
        "tdpd_eth = 0\n",
        "tdpr_ins = 0\n",
        "tdpd_ins = 0\n",
        "for i in range(iters):\n",
        "    X_train, X_test, y_train, y_test = train_test_split(X, y, test_size=0.3, random_state=i)\n",
        "\n",
        "    DT= DecisionTreeClassifier(random_state=i)\n",
        "    DT.fit(X_train, y_train)\n",
        "    y_pred = DT.predict(X_test)\n",
        "\n",
        "    aucpr = average_precision_score(y_test, y_pred)\n",
        "    f1 = f1_score(y_test, y_pred)\n",
        "\n",
        "    dpr_eth = demographic_parity_ratio(y_true=y_test, y_pred=y_pred, sensitive_features=X_test['ethnicity'])\n",
        "    dpd_eth = demographic_parity_difference(y_true=y_test, y_pred=y_pred, sensitive_features=X_test['ethnicity'])\n",
        "    dpr_ins = demographic_parity_ratio(y_true=y_test, y_pred=y_pred, sensitive_features=X_test['AgeGroup'])\n",
        "    dpd_ins = demographic_parity_difference(y_true=y_test, y_pred=y_pred, sensitive_features=X_test['AgeGroup'])\n",
        "\n",
        "    taucpr += aucpr\n",
        "    tf1 += f1\n",
        "    tdpr_eth += dpr_eth\n",
        "    tdpd_eth += dpd_eth\n",
        "    tdpr_ins += dpr_ins\n",
        "    tdpd_ins += dpd_ins\n",
        "\n",
        "metric_eval['MultiFairGAN w/ DPD (Ethnicity and Insurance) (Two-cycle Strategy)'] = [data_dpr_eth, data_dpd_eth, data_dpr_ins, data_dpd_ins, taucpr/iters, tf1/iters, tdpr_eth/iters, tdpd_eth/iters, tdpr_ins/iters, tdpd_ins/iters]"
      ],
      "metadata": {
        "id": "7Rm0Eq_L8z1Y"
      },
      "execution_count": 18,
      "outputs": []
    },
    {
      "cell_type": "markdown",
      "source": [
        "##  MultiFairGAN w/ DPR (Ethnicity and Insurance) (Additive Fairness Loss Strategy)"
      ],
      "metadata": {
        "id": "WYURsAHih35d"
      }
    },
    {
      "cell_type": "code",
      "source": [
        "for feat in cat_features:\n",
        "    proposed_additive_dpr[feat] = LabelEncoder().fit_transform(proposed_additive_dpr[feat])"
      ],
      "metadata": {
        "id": "okZgYH3Zh35z"
      },
      "execution_count": 19,
      "outputs": []
    },
    {
      "cell_type": "code",
      "source": [
        "X = proposed_additive_dpr.drop(columns=['hospitaldischargestatus'])\n",
        "y = LabelEncoder().fit_transform(proposed_additive_dpr['hospitaldischargestatus'])\n",
        "\n",
        "data_dpr_eth = demographic_parity_ratio(y_true=y, y_pred=y, sensitive_features=X['ethnicity'])\n",
        "data_dpd_eth = demographic_parity_difference(y_true=y, y_pred=y, sensitive_features=X['ethnicity'])\n",
        "data_dpr_ins = demographic_parity_ratio(y_true=y, y_pred=y, sensitive_features=X['AgeGroup'])\n",
        "data_dpd_ins = demographic_parity_difference(y_true=y, y_pred=y, sensitive_features=X['AgeGroup'])\n",
        "\n",
        "taucpr = 0\n",
        "tf1 = 0\n",
        "tdpr_eth = 0\n",
        "tdpd_eth = 0\n",
        "tdpr_ins = 0\n",
        "tdpd_ins = 0\n",
        "for i in range(iters):\n",
        "    X_train, X_test, y_train, y_test = train_test_split(X, y, test_size=0.3, random_state=i)\n",
        "\n",
        "    DT= DecisionTreeClassifier(random_state=i)\n",
        "    DT.fit(X_train, y_train)\n",
        "    y_pred = DT.predict(X_test)\n",
        "\n",
        "    aucpr = average_precision_score(y_test, y_pred)\n",
        "    f1 = f1_score(y_test, y_pred)\n",
        "\n",
        "    dpr_eth = demographic_parity_ratio(y_true=y_test, y_pred=y_pred, sensitive_features=X_test['ethnicity'])\n",
        "    dpd_eth = demographic_parity_difference(y_true=y_test, y_pred=y_pred, sensitive_features=X_test['ethnicity'])\n",
        "    dpr_ins = demographic_parity_ratio(y_true=y_test, y_pred=y_pred, sensitive_features=X_test['AgeGroup'])\n",
        "    dpd_ins = demographic_parity_difference(y_true=y_test, y_pred=y_pred, sensitive_features=X_test['AgeGroup'])\n",
        "\n",
        "    taucpr += aucpr\n",
        "    tf1 += f1\n",
        "    tdpr_eth += dpr_eth\n",
        "    tdpd_eth += dpd_eth\n",
        "    tdpr_ins += dpr_ins\n",
        "    tdpd_ins += dpd_ins\n",
        "\n",
        "metric_eval['MultiFairGAN w/ DPR (Ethnicity and Insurance) (Additive Fairness Loss Strategy)'] = [data_dpr_eth, data_dpd_eth, data_dpr_ins, data_dpd_ins, taucpr/iters, tf1/iters, tdpr_eth/iters, tdpd_eth/iters, tdpr_ins/iters, tdpd_ins/iters]"
      ],
      "metadata": {
        "id": "XE8GZDcHh350"
      },
      "execution_count": 20,
      "outputs": []
    },
    {
      "cell_type": "markdown",
      "source": [
        "##  MultiFairGAN w/ DPD (Ethnicity and Insurance) (Additive Fairness Loss Strategy)"
      ],
      "metadata": {
        "id": "ZHoYZVQDh350"
      }
    },
    {
      "cell_type": "code",
      "source": [
        "for feat in cat_features:\n",
        "    proposed_additive_dpd[feat] = LabelEncoder().fit_transform(proposed_additive_dpd[feat])"
      ],
      "metadata": {
        "id": "etijMhFhh351"
      },
      "execution_count": 21,
      "outputs": []
    },
    {
      "cell_type": "code",
      "source": [
        "X = proposed_additive_dpd.drop(columns=['hospitaldischargestatus'])\n",
        "y = LabelEncoder().fit_transform(proposed_additive_dpd['hospitaldischargestatus'])\n",
        "\n",
        "data_dpr_eth = demographic_parity_ratio(y_true=y, y_pred=y, sensitive_features=X['ethnicity'])\n",
        "data_dpd_eth = demographic_parity_difference(y_true=y, y_pred=y, sensitive_features=X['ethnicity'])\n",
        "data_dpr_ins = demographic_parity_ratio(y_true=y, y_pred=y, sensitive_features=X['AgeGroup'])\n",
        "data_dpd_ins = demographic_parity_difference(y_true=y, y_pred=y, sensitive_features=X['AgeGroup'])\n",
        "\n",
        "taucpr = 0\n",
        "tf1 = 0\n",
        "tdpr_eth = 0\n",
        "tdpd_eth = 0\n",
        "tdpr_ins = 0\n",
        "tdpd_ins = 0\n",
        "for i in range(iters):\n",
        "    X_train, X_test, y_train, y_test = train_test_split(X, y, test_size=0.3, random_state=i)\n",
        "\n",
        "    DT= DecisionTreeClassifier(random_state=i)\n",
        "    DT.fit(X_train, y_train)\n",
        "    y_pred = DT.predict(X_test)\n",
        "\n",
        "    aucpr = average_precision_score(y_test, y_pred)\n",
        "    f1 = f1_score(y_test, y_pred)\n",
        "\n",
        "    dpr_eth = demographic_parity_ratio(y_true=y_test, y_pred=y_pred, sensitive_features=X_test['ethnicity'])\n",
        "    dpd_eth = demographic_parity_difference(y_true=y_test, y_pred=y_pred, sensitive_features=X_test['ethnicity'])\n",
        "    dpr_ins = demographic_parity_ratio(y_true=y_test, y_pred=y_pred, sensitive_features=X_test['AgeGroup'])\n",
        "    dpd_ins = demographic_parity_difference(y_true=y_test, y_pred=y_pred, sensitive_features=X_test['AgeGroup'])\n",
        "\n",
        "    taucpr += aucpr\n",
        "    tf1 += f1\n",
        "    tdpr_eth += dpr_eth\n",
        "    tdpd_eth += dpd_eth\n",
        "    tdpr_ins += dpr_ins\n",
        "    tdpd_ins += dpd_ins\n",
        "\n",
        "metric_eval['MultiFairGAN w/ DPD (Ethnicity and Insurance) (Additive Fairness Loss Strategy)'] = [data_dpr_eth, data_dpd_eth, data_dpr_ins, data_dpd_ins, taucpr/iters, tf1/iters, tdpr_eth/iters, tdpd_eth/iters, tdpr_ins/iters, tdpd_ins/iters]"
      ],
      "metadata": {
        "id": "1FgjYwbRh352"
      },
      "execution_count": 22,
      "outputs": []
    },
    {
      "cell_type": "markdown",
      "source": [
        "##  MultiFairGAN w/ DPR (Ethnicity) (Two-cycle Strategy)(Two-cycle Strategy)"
      ],
      "metadata": {
        "id": "jqV2d1szMsaP"
      }
    },
    {
      "cell_type": "code",
      "source": [
        "for feat in cat_features:\n",
        "    proposed_dpr_ethn[feat] = LabelEncoder().fit_transform(proposed_dpr_ethn[feat])"
      ],
      "metadata": {
        "id": "2m3EQSUcMsad"
      },
      "execution_count": 23,
      "outputs": []
    },
    {
      "cell_type": "code",
      "source": [
        "X = proposed_dpr_ethn.drop(columns=['hospitaldischargestatus'])\n",
        "y = LabelEncoder().fit_transform(proposed_dpr_ethn['hospitaldischargestatus'])\n",
        "\n",
        "data_dpr_eth = demographic_parity_ratio(y_true=y, y_pred=y, sensitive_features=X['ethnicity'])\n",
        "data_dpd_eth = demographic_parity_difference(y_true=y, y_pred=y, sensitive_features=X['ethnicity'])\n",
        "data_dpr_ins = demographic_parity_ratio(y_true=y, y_pred=y, sensitive_features=X['AgeGroup'])\n",
        "data_dpd_ins = demographic_parity_difference(y_true=y, y_pred=y, sensitive_features=X['AgeGroup'])\n",
        "\n",
        "taucpr = 0\n",
        "tf1 = 0\n",
        "tdpr_eth = 0\n",
        "tdpd_eth = 0\n",
        "tdpr_ins = 0\n",
        "tdpd_ins = 0\n",
        "for i in range(iters):\n",
        "    X_train, X_test, y_train, y_test = train_test_split(X, y, test_size=0.3, random_state=i)\n",
        "\n",
        "    DT= DecisionTreeClassifier(random_state=i)\n",
        "    DT.fit(X_train, y_train)\n",
        "    y_pred = DT.predict(X_test)\n",
        "\n",
        "    aucpr = average_precision_score(y_test, y_pred)\n",
        "    f1 = f1_score(y_test, y_pred)\n",
        "\n",
        "    dpr_eth = demographic_parity_ratio(y_true=y_test, y_pred=y_pred, sensitive_features=X_test['ethnicity'])\n",
        "    dpd_eth = demographic_parity_difference(y_true=y_test, y_pred=y_pred, sensitive_features=X_test['ethnicity'])\n",
        "    dpr_ins = demographic_parity_ratio(y_true=y_test, y_pred=y_pred, sensitive_features=X_test['AgeGroup'])\n",
        "    dpd_ins = demographic_parity_difference(y_true=y_test, y_pred=y_pred, sensitive_features=X_test['AgeGroup'])\n",
        "\n",
        "    taucpr += aucpr\n",
        "    tf1 += f1\n",
        "    tdpr_eth += dpr_eth\n",
        "    tdpd_eth += dpd_eth\n",
        "    tdpr_ins += dpr_ins\n",
        "    tdpd_ins += dpd_ins\n",
        "\n",
        "metric_eval['MultiFairGAN w/ DPR (Ethnicity) (Two-cycle Strategy)'] = [data_dpr_eth, data_dpd_eth, data_dpr_ins, data_dpd_ins, taucpr/iters, tf1/iters, tdpr_eth/iters, tdpd_eth/iters, tdpr_ins/iters, tdpd_ins/iters]"
      ],
      "metadata": {
        "id": "Pe8RBREOMsae"
      },
      "execution_count": 24,
      "outputs": []
    },
    {
      "cell_type": "markdown",
      "source": [
        "##  MultiFairGAN w/ DPD (Ethnicity) (Two-cycle Strategy)"
      ],
      "metadata": {
        "id": "vh4CJN8BMsae"
      }
    },
    {
      "cell_type": "code",
      "source": [
        "for feat in cat_features:\n",
        "    proposed_dpd_ethn[feat] = LabelEncoder().fit_transform(proposed_dpd_ethn[feat])"
      ],
      "metadata": {
        "id": "YCtoKUisMsae"
      },
      "execution_count": 25,
      "outputs": []
    },
    {
      "cell_type": "code",
      "source": [
        "X = proposed_dpd_ethn.drop(columns=['hospitaldischargestatus'])\n",
        "y = LabelEncoder().fit_transform(proposed_dpd_ethn['hospitaldischargestatus'])\n",
        "\n",
        "data_dpr_eth = demographic_parity_ratio(y_true=y, y_pred=y, sensitive_features=X['ethnicity'])\n",
        "data_dpd_eth = demographic_parity_difference(y_true=y, y_pred=y, sensitive_features=X['ethnicity'])\n",
        "data_dpr_ins = demographic_parity_ratio(y_true=y, y_pred=y, sensitive_features=X['AgeGroup'])\n",
        "data_dpd_ins = demographic_parity_difference(y_true=y, y_pred=y, sensitive_features=X['AgeGroup'])\n",
        "\n",
        "taucpr = 0\n",
        "tf1 = 0\n",
        "tdpr_eth = 0\n",
        "tdpd_eth = 0\n",
        "tdpr_ins = 0\n",
        "tdpd_ins = 0\n",
        "for i in range(iters):\n",
        "    X_train, X_test, y_train, y_test = train_test_split(X, y, test_size=0.3, random_state=i)\n",
        "\n",
        "    DT= DecisionTreeClassifier(random_state=i)\n",
        "    DT.fit(X_train, y_train)\n",
        "    y_pred = DT.predict(X_test)\n",
        "\n",
        "    aucpr = average_precision_score(y_test, y_pred)\n",
        "    f1 = f1_score(y_test, y_pred)\n",
        "\n",
        "    dpr_eth = demographic_parity_ratio(y_true=y_test, y_pred=y_pred, sensitive_features=X_test['ethnicity'])\n",
        "    dpd_eth = demographic_parity_difference(y_true=y_test, y_pred=y_pred, sensitive_features=X_test['ethnicity'])\n",
        "    dpr_ins = demographic_parity_ratio(y_true=y_test, y_pred=y_pred, sensitive_features=X_test['AgeGroup'])\n",
        "    dpd_ins = demographic_parity_difference(y_true=y_test, y_pred=y_pred, sensitive_features=X_test['AgeGroup'])\n",
        "\n",
        "    taucpr += aucpr\n",
        "    tf1 += f1\n",
        "    tdpr_eth += dpr_eth\n",
        "    tdpd_eth += dpd_eth\n",
        "    tdpr_ins += dpr_ins\n",
        "    tdpd_ins += dpd_ins\n",
        "\n",
        "metric_eval['MultiFairGAN w/ DPD (Ethnicity) (Two-cycle Strategy)'] = [data_dpr_eth, data_dpd_eth, data_dpr_ins, data_dpd_ins, taucpr/iters, tf1/iters, tdpr_eth/iters, tdpd_eth/iters, tdpr_ins/iters, tdpd_ins/iters]"
      ],
      "metadata": {
        "id": "bZLo0xByMsaf"
      },
      "execution_count": 26,
      "outputs": []
    },
    {
      "cell_type": "markdown",
      "source": [
        "##  MultiFairGAN w/ DPR (Ethnicity) (Additive Fairness Loss Strategy)"
      ],
      "metadata": {
        "id": "hrPSWJ1gMsaf"
      }
    },
    {
      "cell_type": "code",
      "source": [
        "for feat in cat_features:\n",
        "    proposed_additive_dpr_ethn[feat] = LabelEncoder().fit_transform(proposed_additive_dpr_ethn[feat])"
      ],
      "metadata": {
        "id": "O_tqkTg2Msaf"
      },
      "execution_count": 27,
      "outputs": []
    },
    {
      "cell_type": "code",
      "source": [
        "X = proposed_additive_dpr_ethn.drop(columns=['hospitaldischargestatus'])\n",
        "y = LabelEncoder().fit_transform(proposed_additive_dpr_ethn['hospitaldischargestatus'])\n",
        "\n",
        "data_dpr_eth = demographic_parity_ratio(y_true=y, y_pred=y, sensitive_features=X['ethnicity'])\n",
        "data_dpd_eth = demographic_parity_difference(y_true=y, y_pred=y, sensitive_features=X['ethnicity'])\n",
        "data_dpr_ins = demographic_parity_ratio(y_true=y, y_pred=y, sensitive_features=X['AgeGroup'])\n",
        "data_dpd_ins = demographic_parity_difference(y_true=y, y_pred=y, sensitive_features=X['AgeGroup'])\n",
        "\n",
        "taucpr = 0\n",
        "tf1 = 0\n",
        "tdpr_eth = 0\n",
        "tdpd_eth = 0\n",
        "tdpr_ins = 0\n",
        "tdpd_ins = 0\n",
        "for i in range(iters):\n",
        "    X_train, X_test, y_train, y_test = train_test_split(X, y, test_size=0.3, random_state=i)\n",
        "\n",
        "    DT= DecisionTreeClassifier(random_state=i)\n",
        "    DT.fit(X_train, y_train)\n",
        "    y_pred = DT.predict(X_test)\n",
        "\n",
        "    aucpr = average_precision_score(y_test, y_pred)\n",
        "    f1 = f1_score(y_test, y_pred)\n",
        "\n",
        "    dpr_eth = demographic_parity_ratio(y_true=y_test, y_pred=y_pred, sensitive_features=X_test['ethnicity'])\n",
        "    dpd_eth = demographic_parity_difference(y_true=y_test, y_pred=y_pred, sensitive_features=X_test['ethnicity'])\n",
        "    dpr_ins = demographic_parity_ratio(y_true=y_test, y_pred=y_pred, sensitive_features=X_test['AgeGroup'])\n",
        "    dpd_ins = demographic_parity_difference(y_true=y_test, y_pred=y_pred, sensitive_features=X_test['AgeGroup'])\n",
        "\n",
        "    taucpr += aucpr\n",
        "    tf1 += f1\n",
        "    tdpr_eth += dpr_eth\n",
        "    tdpd_eth += dpd_eth\n",
        "    tdpr_ins += dpr_ins\n",
        "    tdpd_ins += dpd_ins\n",
        "\n",
        "metric_eval['MultiFairGAN w/ DPR (Ethnicity) (Additive Fairness Loss Strategy)'] = [data_dpr_eth, data_dpd_eth, data_dpr_ins, data_dpd_ins, taucpr/iters, tf1/iters, tdpr_eth/iters, tdpd_eth/iters, tdpr_ins/iters, tdpd_ins/iters]"
      ],
      "metadata": {
        "id": "gislWG-FMsaf"
      },
      "execution_count": 28,
      "outputs": []
    },
    {
      "cell_type": "markdown",
      "source": [
        "##  Real DataMultiFairGAN w/ DPD (Ethnicity) (Additive Fairness Loss Strategy)"
      ],
      "metadata": {
        "id": "wsuxSPOPMsaf"
      }
    },
    {
      "cell_type": "code",
      "source": [
        "for feat in cat_features:\n",
        "    proposed_additive_dpd_ethn[feat] = LabelEncoder().fit_transform(proposed_additive_dpd_ethn[feat])"
      ],
      "metadata": {
        "id": "Is79EfePMsag"
      },
      "execution_count": 29,
      "outputs": []
    },
    {
      "cell_type": "code",
      "source": [
        "X = proposed_additive_dpd_ethn.drop(columns=['hospitaldischargestatus'])\n",
        "y = LabelEncoder().fit_transform(proposed_additive_dpd_ethn['hospitaldischargestatus'])\n",
        "\n",
        "data_dpr_eth = demographic_parity_ratio(y_true=y, y_pred=y, sensitive_features=X['ethnicity'])\n",
        "data_dpd_eth = demographic_parity_difference(y_true=y, y_pred=y, sensitive_features=X['ethnicity'])\n",
        "data_dpr_ins = demographic_parity_ratio(y_true=y, y_pred=y, sensitive_features=X['AgeGroup'])\n",
        "data_dpd_ins = demographic_parity_difference(y_true=y, y_pred=y, sensitive_features=X['AgeGroup'])\n",
        "\n",
        "taucpr = 0\n",
        "tf1 = 0\n",
        "tdpr_eth = 0\n",
        "tdpd_eth = 0\n",
        "tdpr_ins = 0\n",
        "tdpd_ins = 0\n",
        "for i in range(iters):\n",
        "    X_train, X_test, y_train, y_test = train_test_split(X, y, test_size=0.3, random_state=i)\n",
        "\n",
        "    DT= DecisionTreeClassifier(random_state=i)\n",
        "    DT.fit(X_train, y_train)\n",
        "    y_pred = DT.predict(X_test)\n",
        "\n",
        "    aucpr = average_precision_score(y_test, y_pred)\n",
        "    f1 = f1_score(y_test, y_pred)\n",
        "\n",
        "    dpr_eth = demographic_parity_ratio(y_true=y_test, y_pred=y_pred, sensitive_features=X_test['ethnicity'])\n",
        "    dpd_eth = demographic_parity_difference(y_true=y_test, y_pred=y_pred, sensitive_features=X_test['ethnicity'])\n",
        "    dpr_ins = demographic_parity_ratio(y_true=y_test, y_pred=y_pred, sensitive_features=X_test['AgeGroup'])\n",
        "    dpd_ins = demographic_parity_difference(y_true=y_test, y_pred=y_pred, sensitive_features=X_test['AgeGroup'])\n",
        "\n",
        "    taucpr += aucpr\n",
        "    tf1 += f1\n",
        "    tdpr_eth += dpr_eth\n",
        "    tdpd_eth += dpd_eth\n",
        "    tdpr_ins += dpr_ins\n",
        "    tdpd_ins += dpd_ins\n",
        "\n",
        "metric_eval['Real DataMultiFairGAN w/ DPD (Ethnicity) (Additive Fairness Loss Strategy)'] = [data_dpr_eth, data_dpd_eth, data_dpr_ins, data_dpd_ins, taucpr/iters, tf1/iters, tdpr_eth/iters, tdpd_eth/iters, tdpr_ins/iters, tdpd_ins/iters]"
      ],
      "metadata": {
        "id": "glDL13irMsag"
      },
      "execution_count": 30,
      "outputs": []
    },
    {
      "cell_type": "markdown",
      "source": [
        "## Results"
      ],
      "metadata": {
        "id": "pD8hsYX80a_E"
      }
    },
    {
      "cell_type": "code",
      "source": [
        "metric_eval_df = pd.DataFrame(metric_eval, index=['DPR - Ethnicity', 'DPD - Ethnicity', 'DPR - AgeGroup', 'DPD - AgeGroup', 'AUC PR', 'F1-Score', 'DPR Classifier - Ethnicity', 'DPD Classifier - Ethnicity', 'DPR Classifier - AgeGroup', 'DPD Classifier - AgeGroup'])\n",
        "metric_eval_df"
      ],
      "metadata": {
        "colab": {
          "base_uri": "https://localhost:8080/",
          "height": 728
        },
        "id": "H_QQ9JC0s8yx",
        "outputId": "8f2e5106-340d-4c8e-f635-bcbc906e8889"
      },
      "execution_count": 31,
      "outputs": [
        {
          "output_type": "execute_result",
          "data": {
            "text/plain": [
              "                            Real Data     CTGAN  TabFairGAN  \\\n",
              "DPR - Ethnicity              0.796395  0.213889    0.413164   \n",
              "DPD - Ethnicity              0.019411  0.125451    0.227186   \n",
              "DPR - AgeGroup               0.320991  0.376878    0.826809   \n",
              "DPD - AgeGroup               0.081463  0.113406    0.049046   \n",
              "AUC PR                       0.115500  0.321184    0.291605   \n",
              "F1-Score                     0.213864  0.506982    0.355944   \n",
              "DPR Classifier - Ethnicity   0.706981  0.357607    0.591345   \n",
              "DPD Classifier - Ethnicity   0.038208  0.106881    0.157899   \n",
              "DPR Classifier - AgeGroup    0.406235  0.441384    0.784398   \n",
              "DPD Classifier - AgeGroup    0.079297  0.106491    0.067574   \n",
              "\n",
              "                            Distance Correlation GAN  \\\n",
              "DPR - Ethnicity                             0.016543   \n",
              "DPD - Ethnicity                             0.967994   \n",
              "DPR - AgeGroup                              0.879699   \n",
              "DPD - AgeGroup                              0.067097   \n",
              "AUC PR                                      0.950484   \n",
              "F1-Score                                    0.966391   \n",
              "DPR Classifier - Ethnicity                  0.019459   \n",
              "DPD Classifier - Ethnicity                  0.962019   \n",
              "DPR Classifier - AgeGroup                   0.861498   \n",
              "DPD Classifier - AgeGroup                   0.079902   \n",
              "\n",
              "                            MultiFairGAN w/ DPR (Ethnicity and Insurance) (Two-cycle Strategy)  \\\n",
              "DPR - Ethnicity                                                      0.975642                    \n",
              "DPD - Ethnicity                                                      0.012243                    \n",
              "DPR - AgeGroup                                                       0.998078                    \n",
              "DPD - AgeGroup                                                       0.000958                    \n",
              "AUC PR                                                               0.497592                    \n",
              "F1-Score                                                             0.496999                    \n",
              "DPR Classifier - Ethnicity                                           0.959803                    \n",
              "DPD Classifier - Ethnicity                                           0.020454                    \n",
              "DPR Classifier - AgeGroup                                            0.978726                    \n",
              "DPD Classifier - AgeGroup                                            0.010707                    \n",
              "\n",
              "                            MultiFairGAN w/ DPD (Ethnicity and Insurance) (Two-cycle Strategy)  \\\n",
              "DPR - Ethnicity                                                      0.973087                    \n",
              "DPD - Ethnicity                                                      0.013494                    \n",
              "DPR - AgeGroup                                                       0.991983                    \n",
              "DPD - AgeGroup                                                       0.003987                    \n",
              "AUC PR                                                               0.495808                    \n",
              "F1-Score                                                             0.496717                    \n",
              "DPR Classifier - Ethnicity                                           0.958974                    \n",
              "DPD Classifier - Ethnicity                                           0.020884                    \n",
              "DPR Classifier - AgeGroup                                            0.976845                    \n",
              "DPD Classifier - AgeGroup                                            0.011639                    \n",
              "\n",
              "                            MultiFairGAN w/ DPR (Ethnicity and Insurance) (Additive Fairness Loss Strategy)  \\\n",
              "DPR - Ethnicity                                                      0.479665                                 \n",
              "DPD - Ethnicity                                                      0.084903                                 \n",
              "DPR - AgeGroup                                                       0.480408                                 \n",
              "DPD - AgeGroup                                                       0.117920                                 \n",
              "AUC PR                                                               0.272344                                 \n",
              "F1-Score                                                             0.434989                                 \n",
              "DPR Classifier - Ethnicity                                           0.521063                                 \n",
              "DPD Classifier - Ethnicity                                           0.083004                                 \n",
              "DPR Classifier - AgeGroup                                            0.531051                                 \n",
              "DPD Classifier - AgeGroup                                            0.109549                                 \n",
              "\n",
              "                            MultiFairGAN w/ DPD (Ethnicity and Insurance) (Additive Fairness Loss Strategy)  \\\n",
              "DPR - Ethnicity                                                      0.299724                                 \n",
              "DPD - Ethnicity                                                      0.115981                                 \n",
              "DPR - AgeGroup                                                       0.540335                                 \n",
              "DPD - AgeGroup                                                       0.081418                                 \n",
              "AUC PR                                                               0.264685                                 \n",
              "F1-Score                                                             0.417952                                 \n",
              "DPR Classifier - Ethnicity                                           0.536583                                 \n",
              "DPD Classifier - Ethnicity                                           0.085938                                 \n",
              "DPR Classifier - AgeGroup                                            0.680077                                 \n",
              "DPD Classifier - AgeGroup                                            0.060536                                 \n",
              "\n",
              "                            MultiFairGAN w/ DPR (Ethnicity) (Two-cycle Strategy)  \\\n",
              "DPR - Ethnicity                                                      0.979399      \n",
              "DPD - Ethnicity                                                      0.010243      \n",
              "DPR - AgeGroup                                                       0.992580      \n",
              "DPD - AgeGroup                                                       0.003664      \n",
              "AUC PR                                                               0.492181      \n",
              "F1-Score                                                             0.493085      \n",
              "DPR Classifier - Ethnicity                                           0.962252      \n",
              "DPD Classifier - Ethnicity                                           0.019105      \n",
              "DPR Classifier - AgeGroup                                            0.967870      \n",
              "DPD Classifier - AgeGroup                                            0.016169      \n",
              "\n",
              "                            MultiFairGAN w/ DPD (Ethnicity) (Two-cycle Strategy)  \\\n",
              "DPR - Ethnicity                                                      0.985512      \n",
              "DPD - Ethnicity                                                      0.007171      \n",
              "DPR - AgeGroup                                                       0.992515      \n",
              "DPD - AgeGroup                                                       0.003686      \n",
              "AUC PR                                                               0.491329      \n",
              "F1-Score                                                             0.492368      \n",
              "DPR Classifier - Ethnicity                                           0.961213      \n",
              "DPD Classifier - Ethnicity                                           0.019607      \n",
              "DPR Classifier - AgeGroup                                            0.975436      \n",
              "DPD Classifier - AgeGroup                                            0.012341      \n",
              "\n",
              "                            MultiFairGAN w/ DPR (Ethnicity) (Additive Fairness Loss Strategy)  \\\n",
              "DPR - Ethnicity                                                      0.447662                   \n",
              "DPD - Ethnicity                                                      0.121428                   \n",
              "DPR - AgeGroup                                                       0.240520                   \n",
              "DPD - AgeGroup                                                       0.231758                   \n",
              "AUC PR                                                               0.317751                   \n",
              "F1-Score                                                             0.467184                   \n",
              "DPR Classifier - Ethnicity                                           0.543436                   \n",
              "DPD Classifier - Ethnicity                                           0.110973                   \n",
              "DPR Classifier - AgeGroup                                            0.303189                   \n",
              "DPD Classifier - AgeGroup                                            0.218364                   \n",
              "\n",
              "                            Real DataMultiFairGAN w/ DPD (Ethnicity) (Additive Fairness Loss Strategy)  \n",
              "DPR - Ethnicity                                                      0.046849                           \n",
              "DPD - Ethnicity                                                      0.281455                           \n",
              "DPR - AgeGroup                                                       0.288024                           \n",
              "DPD - AgeGroup                                                       0.054010                           \n",
              "AUC PR                                                               0.361901                           \n",
              "F1-Score                                                             0.582090                           \n",
              "DPR Classifier - Ethnicity                                           0.059240                           \n",
              "DPD Classifier - Ethnicity                                           0.284322                           \n",
              "DPR Classifier - AgeGroup                                            0.385738                           \n",
              "DPD Classifier - AgeGroup                                            0.050275                           "
            ],
            "text/html": [
              "\n",
              "  <div id=\"df-97270a34-ad56-46e8-884e-9072e1a2c8f3\" class=\"colab-df-container\">\n",
              "    <div>\n",
              "<style scoped>\n",
              "    .dataframe tbody tr th:only-of-type {\n",
              "        vertical-align: middle;\n",
              "    }\n",
              "\n",
              "    .dataframe tbody tr th {\n",
              "        vertical-align: top;\n",
              "    }\n",
              "\n",
              "    .dataframe thead th {\n",
              "        text-align: right;\n",
              "    }\n",
              "</style>\n",
              "<table border=\"1\" class=\"dataframe\">\n",
              "  <thead>\n",
              "    <tr style=\"text-align: right;\">\n",
              "      <th></th>\n",
              "      <th>Real Data</th>\n",
              "      <th>CTGAN</th>\n",
              "      <th>TabFairGAN</th>\n",
              "      <th>Distance Correlation GAN</th>\n",
              "      <th>MultiFairGAN w/ DPR (Ethnicity and Insurance) (Two-cycle Strategy)</th>\n",
              "      <th>MultiFairGAN w/ DPD (Ethnicity and Insurance) (Two-cycle Strategy)</th>\n",
              "      <th>MultiFairGAN w/ DPR (Ethnicity and Insurance) (Additive Fairness Loss Strategy)</th>\n",
              "      <th>MultiFairGAN w/ DPD (Ethnicity and Insurance) (Additive Fairness Loss Strategy)</th>\n",
              "      <th>MultiFairGAN w/ DPR (Ethnicity) (Two-cycle Strategy)</th>\n",
              "      <th>MultiFairGAN w/ DPD (Ethnicity) (Two-cycle Strategy)</th>\n",
              "      <th>MultiFairGAN w/ DPR (Ethnicity) (Additive Fairness Loss Strategy)</th>\n",
              "      <th>Real DataMultiFairGAN w/ DPD (Ethnicity) (Additive Fairness Loss Strategy)</th>\n",
              "    </tr>\n",
              "  </thead>\n",
              "  <tbody>\n",
              "    <tr>\n",
              "      <th>DPR - Ethnicity</th>\n",
              "      <td>0.796395</td>\n",
              "      <td>0.213889</td>\n",
              "      <td>0.413164</td>\n",
              "      <td>0.016543</td>\n",
              "      <td>0.975642</td>\n",
              "      <td>0.973087</td>\n",
              "      <td>0.479665</td>\n",
              "      <td>0.299724</td>\n",
              "      <td>0.979399</td>\n",
              "      <td>0.985512</td>\n",
              "      <td>0.447662</td>\n",
              "      <td>0.046849</td>\n",
              "    </tr>\n",
              "    <tr>\n",
              "      <th>DPD - Ethnicity</th>\n",
              "      <td>0.019411</td>\n",
              "      <td>0.125451</td>\n",
              "      <td>0.227186</td>\n",
              "      <td>0.967994</td>\n",
              "      <td>0.012243</td>\n",
              "      <td>0.013494</td>\n",
              "      <td>0.084903</td>\n",
              "      <td>0.115981</td>\n",
              "      <td>0.010243</td>\n",
              "      <td>0.007171</td>\n",
              "      <td>0.121428</td>\n",
              "      <td>0.281455</td>\n",
              "    </tr>\n",
              "    <tr>\n",
              "      <th>DPR - AgeGroup</th>\n",
              "      <td>0.320991</td>\n",
              "      <td>0.376878</td>\n",
              "      <td>0.826809</td>\n",
              "      <td>0.879699</td>\n",
              "      <td>0.998078</td>\n",
              "      <td>0.991983</td>\n",
              "      <td>0.480408</td>\n",
              "      <td>0.540335</td>\n",
              "      <td>0.992580</td>\n",
              "      <td>0.992515</td>\n",
              "      <td>0.240520</td>\n",
              "      <td>0.288024</td>\n",
              "    </tr>\n",
              "    <tr>\n",
              "      <th>DPD - AgeGroup</th>\n",
              "      <td>0.081463</td>\n",
              "      <td>0.113406</td>\n",
              "      <td>0.049046</td>\n",
              "      <td>0.067097</td>\n",
              "      <td>0.000958</td>\n",
              "      <td>0.003987</td>\n",
              "      <td>0.117920</td>\n",
              "      <td>0.081418</td>\n",
              "      <td>0.003664</td>\n",
              "      <td>0.003686</td>\n",
              "      <td>0.231758</td>\n",
              "      <td>0.054010</td>\n",
              "    </tr>\n",
              "    <tr>\n",
              "      <th>AUC PR</th>\n",
              "      <td>0.115500</td>\n",
              "      <td>0.321184</td>\n",
              "      <td>0.291605</td>\n",
              "      <td>0.950484</td>\n",
              "      <td>0.497592</td>\n",
              "      <td>0.495808</td>\n",
              "      <td>0.272344</td>\n",
              "      <td>0.264685</td>\n",
              "      <td>0.492181</td>\n",
              "      <td>0.491329</td>\n",
              "      <td>0.317751</td>\n",
              "      <td>0.361901</td>\n",
              "    </tr>\n",
              "    <tr>\n",
              "      <th>F1-Score</th>\n",
              "      <td>0.213864</td>\n",
              "      <td>0.506982</td>\n",
              "      <td>0.355944</td>\n",
              "      <td>0.966391</td>\n",
              "      <td>0.496999</td>\n",
              "      <td>0.496717</td>\n",
              "      <td>0.434989</td>\n",
              "      <td>0.417952</td>\n",
              "      <td>0.493085</td>\n",
              "      <td>0.492368</td>\n",
              "      <td>0.467184</td>\n",
              "      <td>0.582090</td>\n",
              "    </tr>\n",
              "    <tr>\n",
              "      <th>DPR Classifier - Ethnicity</th>\n",
              "      <td>0.706981</td>\n",
              "      <td>0.357607</td>\n",
              "      <td>0.591345</td>\n",
              "      <td>0.019459</td>\n",
              "      <td>0.959803</td>\n",
              "      <td>0.958974</td>\n",
              "      <td>0.521063</td>\n",
              "      <td>0.536583</td>\n",
              "      <td>0.962252</td>\n",
              "      <td>0.961213</td>\n",
              "      <td>0.543436</td>\n",
              "      <td>0.059240</td>\n",
              "    </tr>\n",
              "    <tr>\n",
              "      <th>DPD Classifier - Ethnicity</th>\n",
              "      <td>0.038208</td>\n",
              "      <td>0.106881</td>\n",
              "      <td>0.157899</td>\n",
              "      <td>0.962019</td>\n",
              "      <td>0.020454</td>\n",
              "      <td>0.020884</td>\n",
              "      <td>0.083004</td>\n",
              "      <td>0.085938</td>\n",
              "      <td>0.019105</td>\n",
              "      <td>0.019607</td>\n",
              "      <td>0.110973</td>\n",
              "      <td>0.284322</td>\n",
              "    </tr>\n",
              "    <tr>\n",
              "      <th>DPR Classifier - AgeGroup</th>\n",
              "      <td>0.406235</td>\n",
              "      <td>0.441384</td>\n",
              "      <td>0.784398</td>\n",
              "      <td>0.861498</td>\n",
              "      <td>0.978726</td>\n",
              "      <td>0.976845</td>\n",
              "      <td>0.531051</td>\n",
              "      <td>0.680077</td>\n",
              "      <td>0.967870</td>\n",
              "      <td>0.975436</td>\n",
              "      <td>0.303189</td>\n",
              "      <td>0.385738</td>\n",
              "    </tr>\n",
              "    <tr>\n",
              "      <th>DPD Classifier - AgeGroup</th>\n",
              "      <td>0.079297</td>\n",
              "      <td>0.106491</td>\n",
              "      <td>0.067574</td>\n",
              "      <td>0.079902</td>\n",
              "      <td>0.010707</td>\n",
              "      <td>0.011639</td>\n",
              "      <td>0.109549</td>\n",
              "      <td>0.060536</td>\n",
              "      <td>0.016169</td>\n",
              "      <td>0.012341</td>\n",
              "      <td>0.218364</td>\n",
              "      <td>0.050275</td>\n",
              "    </tr>\n",
              "  </tbody>\n",
              "</table>\n",
              "</div>\n",
              "    <div class=\"colab-df-buttons\">\n",
              "\n",
              "  <div class=\"colab-df-container\">\n",
              "    <button class=\"colab-df-convert\" onclick=\"convertToInteractive('df-97270a34-ad56-46e8-884e-9072e1a2c8f3')\"\n",
              "            title=\"Convert this dataframe to an interactive table.\"\n",
              "            style=\"display:none;\">\n",
              "\n",
              "  <svg xmlns=\"http://www.w3.org/2000/svg\" height=\"24px\" viewBox=\"0 -960 960 960\">\n",
              "    <path d=\"M120-120v-720h720v720H120Zm60-500h600v-160H180v160Zm220 220h160v-160H400v160Zm0 220h160v-160H400v160ZM180-400h160v-160H180v160Zm440 0h160v-160H620v160ZM180-180h160v-160H180v160Zm440 0h160v-160H620v160Z\"/>\n",
              "  </svg>\n",
              "    </button>\n",
              "\n",
              "  <style>\n",
              "    .colab-df-container {\n",
              "      display:flex;\n",
              "      gap: 12px;\n",
              "    }\n",
              "\n",
              "    .colab-df-convert {\n",
              "      background-color: #E8F0FE;\n",
              "      border: none;\n",
              "      border-radius: 50%;\n",
              "      cursor: pointer;\n",
              "      display: none;\n",
              "      fill: #1967D2;\n",
              "      height: 32px;\n",
              "      padding: 0 0 0 0;\n",
              "      width: 32px;\n",
              "    }\n",
              "\n",
              "    .colab-df-convert:hover {\n",
              "      background-color: #E2EBFA;\n",
              "      box-shadow: 0px 1px 2px rgba(60, 64, 67, 0.3), 0px 1px 3px 1px rgba(60, 64, 67, 0.15);\n",
              "      fill: #174EA6;\n",
              "    }\n",
              "\n",
              "    .colab-df-buttons div {\n",
              "      margin-bottom: 4px;\n",
              "    }\n",
              "\n",
              "    [theme=dark] .colab-df-convert {\n",
              "      background-color: #3B4455;\n",
              "      fill: #D2E3FC;\n",
              "    }\n",
              "\n",
              "    [theme=dark] .colab-df-convert:hover {\n",
              "      background-color: #434B5C;\n",
              "      box-shadow: 0px 1px 3px 1px rgba(0, 0, 0, 0.15);\n",
              "      filter: drop-shadow(0px 1px 2px rgba(0, 0, 0, 0.3));\n",
              "      fill: #FFFFFF;\n",
              "    }\n",
              "  </style>\n",
              "\n",
              "    <script>\n",
              "      const buttonEl =\n",
              "        document.querySelector('#df-97270a34-ad56-46e8-884e-9072e1a2c8f3 button.colab-df-convert');\n",
              "      buttonEl.style.display =\n",
              "        google.colab.kernel.accessAllowed ? 'block' : 'none';\n",
              "\n",
              "      async function convertToInteractive(key) {\n",
              "        const element = document.querySelector('#df-97270a34-ad56-46e8-884e-9072e1a2c8f3');\n",
              "        const dataTable =\n",
              "          await google.colab.kernel.invokeFunction('convertToInteractive',\n",
              "                                                    [key], {});\n",
              "        if (!dataTable) return;\n",
              "\n",
              "        const docLinkHtml = 'Like what you see? Visit the ' +\n",
              "          '<a target=\"_blank\" href=https://colab.research.google.com/notebooks/data_table.ipynb>data table notebook</a>'\n",
              "          + ' to learn more about interactive tables.';\n",
              "        element.innerHTML = '';\n",
              "        dataTable['output_type'] = 'display_data';\n",
              "        await google.colab.output.renderOutput(dataTable, element);\n",
              "        const docLink = document.createElement('div');\n",
              "        docLink.innerHTML = docLinkHtml;\n",
              "        element.appendChild(docLink);\n",
              "      }\n",
              "    </script>\n",
              "  </div>\n",
              "\n",
              "\n",
              "<div id=\"df-acf01dae-3bf2-4344-be51-c4f0d159c0e7\">\n",
              "  <button class=\"colab-df-quickchart\" onclick=\"quickchart('df-acf01dae-3bf2-4344-be51-c4f0d159c0e7')\"\n",
              "            title=\"Suggest charts.\"\n",
              "            style=\"display:none;\">\n",
              "\n",
              "<svg xmlns=\"http://www.w3.org/2000/svg\" height=\"24px\"viewBox=\"0 0 24 24\"\n",
              "     width=\"24px\">\n",
              "    <g>\n",
              "        <path d=\"M19 3H5c-1.1 0-2 .9-2 2v14c0 1.1.9 2 2 2h14c1.1 0 2-.9 2-2V5c0-1.1-.9-2-2-2zM9 17H7v-7h2v7zm4 0h-2V7h2v10zm4 0h-2v-4h2v4z\"/>\n",
              "    </g>\n",
              "</svg>\n",
              "  </button>\n",
              "\n",
              "<style>\n",
              "  .colab-df-quickchart {\n",
              "    background-color: #E8F0FE;\n",
              "    border: none;\n",
              "    border-radius: 50%;\n",
              "    cursor: pointer;\n",
              "    display: none;\n",
              "    fill: #1967D2;\n",
              "    height: 32px;\n",
              "    padding: 0 0 0 0;\n",
              "    width: 32px;\n",
              "  }\n",
              "\n",
              "  .colab-df-quickchart:hover {\n",
              "    background-color: #E2EBFA;\n",
              "    box-shadow: 0px 1px 2px rgba(60, 64, 67, 0.3), 0px 1px 3px 1px rgba(60, 64, 67, 0.15);\n",
              "    fill: #174EA6;\n",
              "  }\n",
              "\n",
              "  [theme=dark] .colab-df-quickchart {\n",
              "    background-color: #3B4455;\n",
              "    fill: #D2E3FC;\n",
              "  }\n",
              "\n",
              "  [theme=dark] .colab-df-quickchart:hover {\n",
              "    background-color: #434B5C;\n",
              "    box-shadow: 0px 1px 3px 1px rgba(0, 0, 0, 0.15);\n",
              "    filter: drop-shadow(0px 1px 2px rgba(0, 0, 0, 0.3));\n",
              "    fill: #FFFFFF;\n",
              "  }\n",
              "</style>\n",
              "\n",
              "  <script>\n",
              "    async function quickchart(key) {\n",
              "      const charts = await google.colab.kernel.invokeFunction(\n",
              "          'suggestCharts', [key], {});\n",
              "    }\n",
              "    (() => {\n",
              "      let quickchartButtonEl =\n",
              "        document.querySelector('#df-acf01dae-3bf2-4344-be51-c4f0d159c0e7 button');\n",
              "      quickchartButtonEl.style.display =\n",
              "        google.colab.kernel.accessAllowed ? 'block' : 'none';\n",
              "    })();\n",
              "  </script>\n",
              "</div>\n",
              "    </div>\n",
              "  </div>\n"
            ]
          },
          "metadata": {},
          "execution_count": 31
        }
      ]
    }
  ]
}