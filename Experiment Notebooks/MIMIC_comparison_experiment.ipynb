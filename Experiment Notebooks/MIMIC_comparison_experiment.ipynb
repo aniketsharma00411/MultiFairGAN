{
  "nbformat": 4,
  "nbformat_minor": 0,
  "metadata": {
    "colab": {
      "provenance": [],
      "include_colab_link": true
    },
    "kernelspec": {
      "name": "python3",
      "display_name": "Python 3"
    },
    "language_info": {
      "name": "python"
    }
  },
  "cells": [
    {
      "cell_type": "markdown",
      "metadata": {
        "id": "view-in-github",
        "colab_type": "text"
      },
      "source": [
        "<a href=\"https://colab.research.google.com/github/aniketsharma00411/MultiFairGAN/blob/main/Experiment%20Notebooks/MIMIC_comparison_experiment.ipynb\" target=\"_parent\"><img src=\"https://colab.research.google.com/assets/colab-badge.svg\" alt=\"Open In Colab\"/></a>"
      ]
    },
    {
      "cell_type": "markdown",
      "source": [
        "# Initialization"
      ],
      "metadata": {
        "id": "ohAqSToXHAY5"
      }
    },
    {
      "cell_type": "code",
      "execution_count": 1,
      "metadata": {
        "id": "k5wOrr1jWzty"
      },
      "outputs": [],
      "source": [
        "import pandas as pd\n",
        "import numpy as np\n",
        "import matplotlib.pyplot as plt\n",
        "from sklearn.model_selection import train_test_split\n",
        "from sklearn.metrics import f1_score, average_precision_score\n",
        "from sklearn.tree import DecisionTreeClassifier\n",
        "from sklearn.preprocessing import LabelEncoder"
      ]
    },
    {
      "cell_type": "code",
      "source": [
        "! pip install -q fairlearn\n",
        "from fairlearn.metrics import demographic_parity_ratio, demographic_parity_difference"
      ],
      "metadata": {
        "colab": {
          "base_uri": "https://localhost:8080/"
        },
        "id": "0TLjzGnpW40x",
        "outputId": "02dd5f46-8d29-45b4-810a-da2206e966e7"
      },
      "execution_count": 2,
      "outputs": [
        {
          "output_type": "stream",
          "name": "stdout",
          "text": [
            "\u001b[?25l     \u001b[90m━━━━━━━━━━━━━━━━━━━━━━━━━━━━━━━━━━━━━━━━\u001b[0m \u001b[32m0.0/231.5 kB\u001b[0m \u001b[31m?\u001b[0m eta \u001b[36m-:--:--\u001b[0m\r\u001b[2K     \u001b[90m━━━━━━━━━━━━━━━━━━━━━━━━━━━━━━━━━━━━━━━\u001b[0m \u001b[32m231.5/231.5 kB\u001b[0m \u001b[31m7.1 MB/s\u001b[0m eta \u001b[36m0:00:00\u001b[0m\n",
            "\u001b[?25h"
          ]
        }
      ]
    },
    {
      "cell_type": "markdown",
      "source": [
        "# Loading Datasets"
      ],
      "metadata": {
        "id": "QM8rLkRwHNG1"
      }
    },
    {
      "cell_type": "code",
      "source": [
        "from google.colab import drive\n",
        "drive.mount('/content/drive', force_remount= True)"
      ],
      "metadata": {
        "colab": {
          "base_uri": "https://localhost:8080/"
        },
        "id": "dGYUynPLW-kh",
        "outputId": "4afbf7ea-04fa-4b50-b450-e31cb6aa6a00"
      },
      "execution_count": 3,
      "outputs": [
        {
          "output_type": "stream",
          "name": "stdout",
          "text": [
            "Mounted at /content/drive\n"
          ]
        }
      ]
    },
    {
      "cell_type": "code",
      "source": [
        "orig = pd.read_csv('/content/drive/Shareddrives/TRAM - FairSyntheticData/Experiments/Data/MIMIC_TAB.csv')\n",
        "ctgan = pd.read_csv('/content/drive/Shareddrives/TRAM - FairSyntheticData/Experiments/Data/MIMIC_ctgan.csv')\n",
        "tabfairgan = pd.read_csv('/content/drive/Shareddrives/TRAM - FairSyntheticData/Experiments/Data/MIMIC_tabfairgan_0.6_20.csv')\n",
        "distcorrgan = pd.read_csv('/content/drive/Shareddrives/TRAM - FairSyntheticData/Experiments/Data/MIMIC_distcorrGAN_0.1.csv')\n",
        "proposed_dpr = pd.read_csv('/content/drive/Shareddrives/TRAM - FairSyntheticData/Experiments/Data/MIMIC_ctgan_dpr_0.2_30.csv')\n",
        "proposed_dpd = pd.read_csv('/content/drive/Shareddrives/TRAM - FairSyntheticData/Experiments/Data/MIMIC_ctgan_dpd_0.2_40.csv')\n",
        "proposed_additive_dpr = pd.read_csv('/content/drive/Shareddrives/TRAM - FairSyntheticData/Experiments/Data/MIMIC_ctgan_dpr_additive_0.3_200.csv')\n",
        "proposed_additive_dpd = pd.read_csv('/content/drive/Shareddrives/TRAM - FairSyntheticData/Experiments/Data/MIMIC_ctgan_dpd_additive_0.1_200.csv')\n",
        "proposed_dpr_ethn = pd.read_csv('/content/drive/Shareddrives/TRAM - FairSyntheticData/Experiments/Data/MIMIC_ctgan_dpr_0.4_30_ethnicity.csv')\n",
        "proposed_dpd_ethn = pd.read_csv('/content/drive/Shareddrives/TRAM - FairSyntheticData/Experiments/Data/MIMIC_ctgan_dpd_0.4_30_ethnicity.csv')\n",
        "proposed_additive_dpr_ethn = pd.read_csv('/content/drive/Shareddrives/TRAM - FairSyntheticData/Experiments/Data/MIMIC_ctgan_dpr_additive_0.5_200_ethnicity.csv')\n",
        "proposed_additive_dpd_ethn = pd.read_csv('/content/drive/Shareddrives/TRAM - FairSyntheticData/Experiments/Data/MIMIC_ctgan_dpd_additive_0.4_200_ethnicity.csv')"
      ],
      "metadata": {
        "id": "l5O3AW77XEG5"
      },
      "execution_count": 4,
      "outputs": []
    },
    {
      "cell_type": "markdown",
      "source": [
        "# Metric Evaluation"
      ],
      "metadata": {
        "id": "Q9IMs0kjFLC9"
      }
    },
    {
      "cell_type": "code",
      "source": [
        "iters = 20\n",
        "metric_eval = {}"
      ],
      "metadata": {
        "id": "uAqWewOBronS"
      },
      "execution_count": 5,
      "outputs": []
    },
    {
      "cell_type": "code",
      "source": [
        "cat_features = ['gender', 'ethnicity', 'insurance', 'diagnosis_at_admission', 'discharge_location', 'admission_type']"
      ],
      "metadata": {
        "id": "yPgRxPtF0Rto"
      },
      "execution_count": 6,
      "outputs": []
    },
    {
      "cell_type": "markdown",
      "source": [
        "##  Real Data"
      ],
      "metadata": {
        "id": "0iOvl6rM0T8b"
      }
    },
    {
      "cell_type": "code",
      "source": [
        "for feat in cat_features:\n",
        "    orig[feat] = LabelEncoder().fit_transform(orig[feat])"
      ],
      "metadata": {
        "id": "aMWF1QUimx65"
      },
      "execution_count": 7,
      "outputs": []
    },
    {
      "cell_type": "code",
      "source": [
        "orig = orig.drop(columns=[\"dnr_first\", \"dnr\",\"fullcode_first\", \"discharge_location\",\"fullcode\"])"
      ],
      "metadata": {
        "id": "o5nZBPE8qcwD"
      },
      "execution_count": 8,
      "outputs": []
    },
    {
      "cell_type": "code",
      "source": [
        "X = orig.drop(columns=['hospital_expire_flag'])\n",
        "y = orig['hospital_expire_flag']\n",
        "\n",
        "data_dpr_eth = demographic_parity_ratio(y_true=y, y_pred=y, sensitive_features=X['ethnicity'])\n",
        "data_dpd_eth = demographic_parity_difference(y_true=y, y_pred=y, sensitive_features=X['ethnicity'])\n",
        "data_dpr_ins = demographic_parity_ratio(y_true=y, y_pred=y, sensitive_features=X['insurance'])\n",
        "data_dpd_ins = demographic_parity_difference(y_true=y, y_pred=y, sensitive_features=X['insurance'])\n",
        "\n",
        "taucpr = 0\n",
        "tf1 = 0\n",
        "tdpr_eth = 0\n",
        "tdpd_eth = 0\n",
        "tdpr_ins = 0\n",
        "tdpd_ins = 0\n",
        "for i in range(iters):\n",
        "    X_train, X_test, y_train, y_test = train_test_split(X, y, test_size=0.3, random_state=i)\n",
        "\n",
        "    DT= DecisionTreeClassifier(random_state=i)\n",
        "    DT.fit(X_train, y_train)\n",
        "    y_pred = DT.predict(X_test)\n",
        "\n",
        "    aucpr = average_precision_score(y_test, y_pred)\n",
        "    f1 = f1_score(y_test, y_pred)\n",
        "\n",
        "    dpr_eth = demographic_parity_ratio(y_true=y_test, y_pred=y_pred, sensitive_features=X_test['ethnicity'])\n",
        "    dpd_eth = demographic_parity_difference(y_true=y_test, y_pred=y_pred, sensitive_features=X_test['ethnicity'])\n",
        "    dpr_ins = demographic_parity_ratio(y_true=y_test, y_pred=y_pred, sensitive_features=X_test['insurance'])\n",
        "    dpd_ins = demographic_parity_difference(y_true=y_test, y_pred=y_pred, sensitive_features=X_test['insurance'])\n",
        "\n",
        "    taucpr += aucpr\n",
        "    tf1 += f1\n",
        "    tdpr_eth += dpr_eth\n",
        "    tdpd_eth += dpd_eth\n",
        "    tdpr_ins += dpr_ins\n",
        "    tdpd_ins += dpd_ins\n",
        "\n",
        "metric_eval['Real Data'] = [data_dpr_eth, data_dpd_eth, data_dpr_ins, data_dpd_ins, taucpr/iters, tf1/iters, tdpr_eth/iters, tdpd_eth/iters, tdpr_ins/iters, tdpd_ins/iters]"
      ],
      "metadata": {
        "id": "AHm6OjKLo0nX"
      },
      "execution_count": 9,
      "outputs": []
    },
    {
      "cell_type": "markdown",
      "source": [
        "##  CTGAN"
      ],
      "metadata": {
        "id": "wPnM41uy7-27"
      }
    },
    {
      "cell_type": "code",
      "source": [
        "for feat in cat_features:\n",
        "    ctgan[feat] = LabelEncoder().fit_transform(ctgan[feat])"
      ],
      "metadata": {
        "id": "J7qXLWRJ7-3P"
      },
      "execution_count": 10,
      "outputs": []
    },
    {
      "cell_type": "code",
      "source": [
        "ctgan = ctgan.drop(columns=[\"dnr_first\", \"dnr\",\"fullcode_first\", \"discharge_location\",\"fullcode\"])"
      ],
      "metadata": {
        "id": "m9vdccFC7-3Q"
      },
      "execution_count": 11,
      "outputs": []
    },
    {
      "cell_type": "code",
      "source": [
        "X = ctgan.drop(columns=['hospital_expire_flag'])\n",
        "y = ctgan['hospital_expire_flag']\n",
        "\n",
        "data_dpr_eth = demographic_parity_ratio(y_true=y, y_pred=y, sensitive_features=X['ethnicity'])\n",
        "data_dpd_eth = demographic_parity_difference(y_true=y, y_pred=y, sensitive_features=X['ethnicity'])\n",
        "data_dpr_ins = demographic_parity_ratio(y_true=y, y_pred=y, sensitive_features=X['insurance'])\n",
        "data_dpd_ins = demographic_parity_difference(y_true=y, y_pred=y, sensitive_features=X['insurance'])\n",
        "\n",
        "taucpr = 0\n",
        "tf1 = 0\n",
        "tdpr_eth = 0\n",
        "tdpd_eth = 0\n",
        "tdpr_ins = 0\n",
        "tdpd_ins = 0\n",
        "for i in range(iters):\n",
        "    X_train, X_test, y_train, y_test = train_test_split(X, y, test_size=0.3, random_state=i)\n",
        "\n",
        "    DT= DecisionTreeClassifier(random_state=i)\n",
        "    DT.fit(X_train, y_train)\n",
        "    y_pred = DT.predict(X_test)\n",
        "\n",
        "    aucpr = average_precision_score(y_test, y_pred)\n",
        "    f1 = f1_score(y_test, y_pred)\n",
        "\n",
        "    dpr_eth = demographic_parity_ratio(y_true=y_test, y_pred=y_pred, sensitive_features=X_test['ethnicity'])\n",
        "    dpd_eth = demographic_parity_difference(y_true=y_test, y_pred=y_pred, sensitive_features=X_test['ethnicity'])\n",
        "    dpr_ins = demographic_parity_ratio(y_true=y_test, y_pred=y_pred, sensitive_features=X_test['insurance'])\n",
        "    dpd_ins = demographic_parity_difference(y_true=y_test, y_pred=y_pred, sensitive_features=X_test['insurance'])\n",
        "\n",
        "    taucpr += aucpr\n",
        "    tf1 += f1\n",
        "    tdpr_eth += dpr_eth\n",
        "    tdpd_eth += dpd_eth\n",
        "    tdpr_ins += dpr_ins\n",
        "    tdpd_ins += dpd_ins\n",
        "\n",
        "metric_eval['CTGAN'] = [data_dpr_eth, data_dpd_eth, data_dpr_ins, data_dpd_ins, taucpr/iters, tf1/iters, tdpr_eth/iters, tdpd_eth/iters, tdpr_ins/iters, tdpd_ins/iters]"
      ],
      "metadata": {
        "id": "huYt-NOc7-3Q"
      },
      "execution_count": 12,
      "outputs": []
    },
    {
      "cell_type": "markdown",
      "source": [
        "##  TabFairGAN"
      ],
      "metadata": {
        "id": "t02omaoR8zkI"
      }
    },
    {
      "cell_type": "code",
      "source": [
        "for feat in cat_features:\n",
        "    tabfairgan[feat] = LabelEncoder().fit_transform(tabfairgan[feat])"
      ],
      "metadata": {
        "id": "hbU69js68zkJ"
      },
      "execution_count": 13,
      "outputs": []
    },
    {
      "cell_type": "code",
      "source": [
        "tabfairgan = tabfairgan.drop(columns=[\"dnr_first\", \"dnr\",\"fullcode_first\", \"discharge_location\",\"fullcode\"])"
      ],
      "metadata": {
        "id": "axOCx5pL8zkJ"
      },
      "execution_count": 14,
      "outputs": []
    },
    {
      "cell_type": "code",
      "source": [
        "X = tabfairgan.drop(columns=['hospital_expire_flag'])\n",
        "y = tabfairgan['hospital_expire_flag']\n",
        "\n",
        "data_dpr_eth = demographic_parity_ratio(y_true=y, y_pred=y, sensitive_features=X['ethnicity'])\n",
        "data_dpd_eth = demographic_parity_difference(y_true=y, y_pred=y, sensitive_features=X['ethnicity'])\n",
        "data_dpr_ins = demographic_parity_ratio(y_true=y, y_pred=y, sensitive_features=X['insurance'])\n",
        "data_dpd_ins = demographic_parity_difference(y_true=y, y_pred=y, sensitive_features=X['insurance'])\n",
        "\n",
        "taucpr = 0\n",
        "tf1 = 0\n",
        "tdpr_eth = 0\n",
        "tdpd_eth = 0\n",
        "tdpr_ins = 0\n",
        "tdpd_ins = 0\n",
        "for i in range(iters):\n",
        "    X_train, X_test, y_train, y_test = train_test_split(X, y, test_size=0.3, random_state=i)\n",
        "\n",
        "    DT= DecisionTreeClassifier(random_state=i)\n",
        "    DT.fit(X_train, y_train)\n",
        "    y_pred = DT.predict(X_test)\n",
        "\n",
        "    aucpr = average_precision_score(y_test, y_pred)\n",
        "    f1 = f1_score(y_test, y_pred)\n",
        "\n",
        "    dpr_eth = demographic_parity_ratio(y_true=y_test, y_pred=y_pred, sensitive_features=X_test['ethnicity'])\n",
        "    dpd_eth = demographic_parity_difference(y_true=y_test, y_pred=y_pred, sensitive_features=X_test['ethnicity'])\n",
        "    dpr_ins = demographic_parity_ratio(y_true=y_test, y_pred=y_pred, sensitive_features=X_test['insurance'])\n",
        "    dpd_ins = demographic_parity_difference(y_true=y_test, y_pred=y_pred, sensitive_features=X_test['insurance'])\n",
        "\n",
        "    taucpr += aucpr\n",
        "    tf1 += f1\n",
        "    tdpr_eth += dpr_eth\n",
        "    tdpd_eth += dpd_eth\n",
        "    tdpr_ins += dpr_ins\n",
        "    tdpd_ins += dpd_ins\n",
        "\n",
        "metric_eval['TabFairGAN'] = [data_dpr_eth, data_dpd_eth, data_dpr_ins, data_dpd_ins, taucpr/iters, tf1/iters, tdpr_eth/iters, tdpd_eth/iters, tdpr_ins/iters, tdpd_ins/iters]"
      ],
      "metadata": {
        "id": "499UIDDz8zkJ"
      },
      "execution_count": 15,
      "outputs": []
    },
    {
      "cell_type": "markdown",
      "source": [
        "##  Distance Correlation GAN"
      ],
      "metadata": {
        "id": "C0fMhH1s8zp-"
      }
    },
    {
      "cell_type": "code",
      "source": [
        "for feat in cat_features:\n",
        "    distcorrgan[feat] = LabelEncoder().fit_transform(distcorrgan[feat])"
      ],
      "metadata": {
        "id": "xusA-msS8zp_"
      },
      "execution_count": 16,
      "outputs": []
    },
    {
      "cell_type": "code",
      "source": [
        "distcorrgan = distcorrgan.drop(columns=[\"dnr_first\", \"dnr\",\"fullcode_first\", \"discharge_location\",\"fullcode\"])"
      ],
      "metadata": {
        "id": "Tk8mAXHg8zp_"
      },
      "execution_count": 17,
      "outputs": []
    },
    {
      "cell_type": "code",
      "source": [
        "X = distcorrgan.drop(columns=['hospital_expire_flag'])\n",
        "y = distcorrgan['hospital_expire_flag']\n",
        "\n",
        "data_dpr_eth = demographic_parity_ratio(y_true=y, y_pred=y, sensitive_features=X['ethnicity'])\n",
        "data_dpd_eth = demographic_parity_difference(y_true=y, y_pred=y, sensitive_features=X['ethnicity'])\n",
        "data_dpr_ins = demographic_parity_ratio(y_true=y, y_pred=y, sensitive_features=X['insurance'])\n",
        "data_dpd_ins = demographic_parity_difference(y_true=y, y_pred=y, sensitive_features=X['insurance'])\n",
        "\n",
        "taucpr = 0\n",
        "tf1 = 0\n",
        "tdpr_eth = 0\n",
        "tdpd_eth = 0\n",
        "tdpr_ins = 0\n",
        "tdpd_ins = 0\n",
        "for i in range(iters):\n",
        "    X_train, X_test, y_train, y_test = train_test_split(X, y, test_size=0.3, random_state=i)\n",
        "\n",
        "    DT= DecisionTreeClassifier(random_state=i)\n",
        "    DT.fit(X_train, y_train)\n",
        "    y_pred = DT.predict(X_test)\n",
        "\n",
        "    aucpr = average_precision_score(y_test, y_pred)\n",
        "    f1 = f1_score(y_test, y_pred)\n",
        "\n",
        "    dpr_eth = demographic_parity_ratio(y_true=y_test, y_pred=y_pred, sensitive_features=X_test['ethnicity'])\n",
        "    dpd_eth = demographic_parity_difference(y_true=y_test, y_pred=y_pred, sensitive_features=X_test['ethnicity'])\n",
        "    dpr_ins = demographic_parity_ratio(y_true=y_test, y_pred=y_pred, sensitive_features=X_test['insurance'])\n",
        "    dpd_ins = demographic_parity_difference(y_true=y_test, y_pred=y_pred, sensitive_features=X_test['insurance'])\n",
        "\n",
        "    taucpr += aucpr\n",
        "    tf1 += f1\n",
        "    tdpr_eth += dpr_eth\n",
        "    tdpd_eth += dpd_eth\n",
        "    tdpr_ins += dpr_ins\n",
        "    tdpd_ins += dpd_ins\n",
        "\n",
        "metric_eval['Distance Correlation GAN'] = [data_dpr_eth, data_dpd_eth, data_dpr_ins, data_dpd_ins, taucpr/iters, tf1/iters, tdpr_eth/iters, tdpd_eth/iters, tdpr_ins/iters, tdpd_ins/iters]"
      ],
      "metadata": {
        "id": "1cyEnpuf8zp_"
      },
      "execution_count": 18,
      "outputs": []
    },
    {
      "cell_type": "markdown",
      "source": [
        "##  MultiFairGAN w/ DPR (Ethnicity and Insurance) (Two-cycle Strategy)"
      ],
      "metadata": {
        "id": "w7giNqkL8zvk"
      }
    },
    {
      "cell_type": "code",
      "source": [
        "for feat in cat_features:\n",
        "    proposed_dpr[feat] = LabelEncoder().fit_transform(proposed_dpr[feat])"
      ],
      "metadata": {
        "id": "mN8UpLHc8zvm"
      },
      "execution_count": 19,
      "outputs": []
    },
    {
      "cell_type": "code",
      "source": [
        "proposed_dpr = proposed_dpr.drop(columns=[\"dnr_first\", \"dnr\",\"fullcode_first\", \"discharge_location\",\"fullcode\"])"
      ],
      "metadata": {
        "id": "MWi51uIu8zvn"
      },
      "execution_count": 20,
      "outputs": []
    },
    {
      "cell_type": "code",
      "source": [
        "X = proposed_dpr.drop(columns=['hospital_expire_flag'])\n",
        "y = proposed_dpr['hospital_expire_flag']\n",
        "\n",
        "data_dpr_eth = demographic_parity_ratio(y_true=y, y_pred=y, sensitive_features=X['ethnicity'])\n",
        "data_dpd_eth = demographic_parity_difference(y_true=y, y_pred=y, sensitive_features=X['ethnicity'])\n",
        "data_dpr_ins = demographic_parity_ratio(y_true=y, y_pred=y, sensitive_features=X['insurance'])\n",
        "data_dpd_ins = demographic_parity_difference(y_true=y, y_pred=y, sensitive_features=X['insurance'])\n",
        "\n",
        "taucpr = 0\n",
        "tf1 = 0\n",
        "tdpr_eth = 0\n",
        "tdpd_eth = 0\n",
        "tdpr_ins = 0\n",
        "tdpd_ins = 0\n",
        "for i in range(iters):\n",
        "    X_train, X_test, y_train, y_test = train_test_split(X, y, test_size=0.3, random_state=i)\n",
        "\n",
        "    DT= DecisionTreeClassifier(random_state=i)\n",
        "    DT.fit(X_train, y_train)\n",
        "    y_pred = DT.predict(X_test)\n",
        "\n",
        "    aucpr = average_precision_score(y_test, y_pred)\n",
        "    f1 = f1_score(y_test, y_pred)\n",
        "\n",
        "    dpr_eth = demographic_parity_ratio(y_true=y_test, y_pred=y_pred, sensitive_features=X_test['ethnicity'])\n",
        "    dpd_eth = demographic_parity_difference(y_true=y_test, y_pred=y_pred, sensitive_features=X_test['ethnicity'])\n",
        "    dpr_ins = demographic_parity_ratio(y_true=y_test, y_pred=y_pred, sensitive_features=X_test['insurance'])\n",
        "    dpd_ins = demographic_parity_difference(y_true=y_test, y_pred=y_pred, sensitive_features=X_test['insurance'])\n",
        "\n",
        "    taucpr += aucpr\n",
        "    tf1 += f1\n",
        "    tdpr_eth += dpr_eth\n",
        "    tdpd_eth += dpd_eth\n",
        "    tdpr_ins += dpr_ins\n",
        "    tdpd_ins += dpd_ins\n",
        "\n",
        "metric_eval['MultiFairGAN w/ DPR (Ethnicity and Insurance) (Two-cycle Strategy)'] = [data_dpr_eth, data_dpd_eth, data_dpr_ins, data_dpd_ins, taucpr/iters, tf1/iters, tdpr_eth/iters, tdpd_eth/iters, tdpr_ins/iters, tdpd_ins/iters]"
      ],
      "metadata": {
        "id": "HtbzaAL_8zvo"
      },
      "execution_count": 21,
      "outputs": []
    },
    {
      "cell_type": "markdown",
      "source": [
        "##  MultiFairGAN w/ DPD (Ethnicity and Insurance) (Two-cycle Strategy)"
      ],
      "metadata": {
        "id": "ghVOKkdo8z1X"
      }
    },
    {
      "cell_type": "code",
      "source": [
        "for feat in cat_features:\n",
        "    proposed_dpd[feat] = LabelEncoder().fit_transform(proposed_dpd[feat])"
      ],
      "metadata": {
        "id": "jruMvvfX8z1X"
      },
      "execution_count": 22,
      "outputs": []
    },
    {
      "cell_type": "code",
      "source": [
        "proposed_dpd = proposed_dpd.drop(columns=[\"dnr_first\", \"dnr\",\"fullcode_first\", \"discharge_location\",\"fullcode\"])"
      ],
      "metadata": {
        "id": "GhQsm9RP8z1Y"
      },
      "execution_count": 23,
      "outputs": []
    },
    {
      "cell_type": "code",
      "source": [
        "X = proposed_dpd.drop(columns=['hospital_expire_flag'])\n",
        "y = proposed_dpd['hospital_expire_flag']\n",
        "\n",
        "data_dpr_eth = demographic_parity_ratio(y_true=y, y_pred=y, sensitive_features=X['ethnicity'])\n",
        "data_dpd_eth = demographic_parity_difference(y_true=y, y_pred=y, sensitive_features=X['ethnicity'])\n",
        "data_dpr_ins = demographic_parity_ratio(y_true=y, y_pred=y, sensitive_features=X['insurance'])\n",
        "data_dpd_ins = demographic_parity_difference(y_true=y, y_pred=y, sensitive_features=X['insurance'])\n",
        "\n",
        "taucpr = 0\n",
        "tf1 = 0\n",
        "tdpr_eth = 0\n",
        "tdpd_eth = 0\n",
        "tdpr_ins = 0\n",
        "tdpd_ins = 0\n",
        "for i in range(iters):\n",
        "    X_train, X_test, y_train, y_test = train_test_split(X, y, test_size=0.3, random_state=i)\n",
        "\n",
        "    DT= DecisionTreeClassifier(random_state=i)\n",
        "    DT.fit(X_train, y_train)\n",
        "    y_pred = DT.predict(X_test)\n",
        "\n",
        "    aucpr = average_precision_score(y_test, y_pred)\n",
        "    f1 = f1_score(y_test, y_pred)\n",
        "\n",
        "    dpr_eth = demographic_parity_ratio(y_true=y_test, y_pred=y_pred, sensitive_features=X_test['ethnicity'])\n",
        "    dpd_eth = demographic_parity_difference(y_true=y_test, y_pred=y_pred, sensitive_features=X_test['ethnicity'])\n",
        "    dpr_ins = demographic_parity_ratio(y_true=y_test, y_pred=y_pred, sensitive_features=X_test['insurance'])\n",
        "    dpd_ins = demographic_parity_difference(y_true=y_test, y_pred=y_pred, sensitive_features=X_test['insurance'])\n",
        "\n",
        "    taucpr += aucpr\n",
        "    tf1 += f1\n",
        "    tdpr_eth += dpr_eth\n",
        "    tdpd_eth += dpd_eth\n",
        "    tdpr_ins += dpr_ins\n",
        "    tdpd_ins += dpd_ins\n",
        "\n",
        "metric_eval['MultiFairGAN w/ DPD (Ethnicity and Insurance) (Two-cycle Strategy)'] = [data_dpr_eth, data_dpd_eth, data_dpr_ins, data_dpd_ins, taucpr/iters, tf1/iters, tdpr_eth/iters, tdpd_eth/iters, tdpr_ins/iters, tdpd_ins/iters]"
      ],
      "metadata": {
        "id": "7Rm0Eq_L8z1Y"
      },
      "execution_count": 24,
      "outputs": []
    },
    {
      "cell_type": "markdown",
      "source": [
        "##  MultiFairGAN w/ DPR (Ethnicity and Insurance) (Additive Fairness Loss Strategy)"
      ],
      "metadata": {
        "id": "WYURsAHih35d"
      }
    },
    {
      "cell_type": "code",
      "source": [
        "for feat in cat_features:\n",
        "    proposed_additive_dpr[feat] = LabelEncoder().fit_transform(proposed_additive_dpr[feat])"
      ],
      "metadata": {
        "id": "okZgYH3Zh35z"
      },
      "execution_count": 25,
      "outputs": []
    },
    {
      "cell_type": "code",
      "source": [
        "proposed_additive_dpr = proposed_additive_dpr.drop(columns=[\"dnr_first\", \"dnr\",\"fullcode_first\", \"discharge_location\",\"fullcode\"])"
      ],
      "metadata": {
        "id": "si5tVr1Jh35z"
      },
      "execution_count": 26,
      "outputs": []
    },
    {
      "cell_type": "code",
      "source": [
        "X = proposed_additive_dpr.drop(columns=['hospital_expire_flag'])\n",
        "y = proposed_additive_dpr['hospital_expire_flag']\n",
        "\n",
        "data_dpr_eth = demographic_parity_ratio(y_true=y, y_pred=y, sensitive_features=X['ethnicity'])\n",
        "data_dpd_eth = demographic_parity_difference(y_true=y, y_pred=y, sensitive_features=X['ethnicity'])\n",
        "data_dpr_ins = demographic_parity_ratio(y_true=y, y_pred=y, sensitive_features=X['insurance'])\n",
        "data_dpd_ins = demographic_parity_difference(y_true=y, y_pred=y, sensitive_features=X['insurance'])\n",
        "\n",
        "taucpr = 0\n",
        "tf1 = 0\n",
        "tdpr_eth = 0\n",
        "tdpd_eth = 0\n",
        "tdpr_ins = 0\n",
        "tdpd_ins = 0\n",
        "for i in range(iters):\n",
        "    X_train, X_test, y_train, y_test = train_test_split(X, y, test_size=0.3, random_state=i)\n",
        "\n",
        "    DT= DecisionTreeClassifier(random_state=i)\n",
        "    DT.fit(X_train, y_train)\n",
        "    y_pred = DT.predict(X_test)\n",
        "\n",
        "    aucpr = average_precision_score(y_test, y_pred)\n",
        "    f1 = f1_score(y_test, y_pred)\n",
        "\n",
        "    dpr_eth = demographic_parity_ratio(y_true=y_test, y_pred=y_pred, sensitive_features=X_test['ethnicity'])\n",
        "    dpd_eth = demographic_parity_difference(y_true=y_test, y_pred=y_pred, sensitive_features=X_test['ethnicity'])\n",
        "    dpr_ins = demographic_parity_ratio(y_true=y_test, y_pred=y_pred, sensitive_features=X_test['insurance'])\n",
        "    dpd_ins = demographic_parity_difference(y_true=y_test, y_pred=y_pred, sensitive_features=X_test['insurance'])\n",
        "\n",
        "    taucpr += aucpr\n",
        "    tf1 += f1\n",
        "    tdpr_eth += dpr_eth\n",
        "    tdpd_eth += dpd_eth\n",
        "    tdpr_ins += dpr_ins\n",
        "    tdpd_ins += dpd_ins\n",
        "\n",
        "metric_eval['MultiFairGAN w/ DPR (Ethnicity and Insurance) (Additive Fairness Loss Strategy)'] = [data_dpr_eth, data_dpd_eth, data_dpr_ins, data_dpd_ins, taucpr/iters, tf1/iters, tdpr_eth/iters, tdpd_eth/iters, tdpr_ins/iters, tdpd_ins/iters]"
      ],
      "metadata": {
        "id": "XE8GZDcHh350"
      },
      "execution_count": 27,
      "outputs": []
    },
    {
      "cell_type": "markdown",
      "source": [
        "##  MultiFairGAN w/ DPD (Ethnicity and Insurance) (Additive Fairness Loss Strategy)"
      ],
      "metadata": {
        "id": "ZHoYZVQDh350"
      }
    },
    {
      "cell_type": "code",
      "source": [
        "for feat in cat_features:\n",
        "    proposed_additive_dpd[feat] = LabelEncoder().fit_transform(proposed_additive_dpd[feat])"
      ],
      "metadata": {
        "id": "etijMhFhh351"
      },
      "execution_count": 28,
      "outputs": []
    },
    {
      "cell_type": "code",
      "source": [
        "proposed_additive_dpd = proposed_additive_dpd.drop(columns=[\"dnr_first\", \"dnr\",\"fullcode_first\", \"discharge_location\",\"fullcode\"])"
      ],
      "metadata": {
        "id": "zXJ5BNHVh351"
      },
      "execution_count": 29,
      "outputs": []
    },
    {
      "cell_type": "code",
      "source": [
        "X = proposed_additive_dpd.drop(columns=['hospital_expire_flag'])\n",
        "y = proposed_additive_dpd['hospital_expire_flag']\n",
        "\n",
        "data_dpr_eth = demographic_parity_ratio(y_true=y, y_pred=y, sensitive_features=X['ethnicity'])\n",
        "data_dpd_eth = demographic_parity_difference(y_true=y, y_pred=y, sensitive_features=X['ethnicity'])\n",
        "data_dpr_ins = demographic_parity_ratio(y_true=y, y_pred=y, sensitive_features=X['insurance'])\n",
        "data_dpd_ins = demographic_parity_difference(y_true=y, y_pred=y, sensitive_features=X['insurance'])\n",
        "\n",
        "taucpr = 0\n",
        "tf1 = 0\n",
        "tdpr_eth = 0\n",
        "tdpd_eth = 0\n",
        "tdpr_ins = 0\n",
        "tdpd_ins = 0\n",
        "for i in range(iters):\n",
        "    X_train, X_test, y_train, y_test = train_test_split(X, y, test_size=0.3, random_state=i)\n",
        "\n",
        "    DT= DecisionTreeClassifier(random_state=i)\n",
        "    DT.fit(X_train, y_train)\n",
        "    y_pred = DT.predict(X_test)\n",
        "\n",
        "    aucpr = average_precision_score(y_test, y_pred)\n",
        "    f1 = f1_score(y_test, y_pred)\n",
        "\n",
        "    dpr_eth = demographic_parity_ratio(y_true=y_test, y_pred=y_pred, sensitive_features=X_test['ethnicity'])\n",
        "    dpd_eth = demographic_parity_difference(y_true=y_test, y_pred=y_pred, sensitive_features=X_test['ethnicity'])\n",
        "    dpr_ins = demographic_parity_ratio(y_true=y_test, y_pred=y_pred, sensitive_features=X_test['insurance'])\n",
        "    dpd_ins = demographic_parity_difference(y_true=y_test, y_pred=y_pred, sensitive_features=X_test['insurance'])\n",
        "\n",
        "    taucpr += aucpr\n",
        "    tf1 += f1\n",
        "    tdpr_eth += dpr_eth\n",
        "    tdpd_eth += dpd_eth\n",
        "    tdpr_ins += dpr_ins\n",
        "    tdpd_ins += dpd_ins\n",
        "\n",
        "metric_eval['MultiFairGAN w/ DPD (Ethnicity and Insurance) (Additive Fairness Loss Strategy)'] = [data_dpr_eth, data_dpd_eth, data_dpr_ins, data_dpd_ins, taucpr/iters, tf1/iters, tdpr_eth/iters, tdpd_eth/iters, tdpr_ins/iters, tdpd_ins/iters]"
      ],
      "metadata": {
        "id": "1FgjYwbRh352"
      },
      "execution_count": 30,
      "outputs": []
    },
    {
      "cell_type": "markdown",
      "source": [
        "##  MultiFairGAN w/ DPR (Ethnicity) (Two-cycle Strategy)"
      ],
      "metadata": {
        "id": "jqV2d1szMsaP"
      }
    },
    {
      "cell_type": "code",
      "source": [
        "for feat in cat_features:\n",
        "    proposed_dpr_ethn[feat] = LabelEncoder().fit_transform(proposed_dpr_ethn[feat])"
      ],
      "metadata": {
        "id": "2m3EQSUcMsad"
      },
      "execution_count": 31,
      "outputs": []
    },
    {
      "cell_type": "code",
      "source": [
        "proposed_dpr_ethn = proposed_dpr_ethn.drop(columns=[\"dnr_first\", \"dnr\",\"fullcode_first\", \"discharge_location\",\"fullcode\"])"
      ],
      "metadata": {
        "id": "S_RvnUiTMsae"
      },
      "execution_count": 32,
      "outputs": []
    },
    {
      "cell_type": "code",
      "source": [
        "X = proposed_dpr_ethn.drop(columns=['hospital_expire_flag'])\n",
        "y = proposed_dpr_ethn['hospital_expire_flag']\n",
        "\n",
        "data_dpr_eth = demographic_parity_ratio(y_true=y, y_pred=y, sensitive_features=X['ethnicity'])\n",
        "data_dpd_eth = demographic_parity_difference(y_true=y, y_pred=y, sensitive_features=X['ethnicity'])\n",
        "data_dpr_ins = demographic_parity_ratio(y_true=y, y_pred=y, sensitive_features=X['insurance'])\n",
        "data_dpd_ins = demographic_parity_difference(y_true=y, y_pred=y, sensitive_features=X['insurance'])\n",
        "\n",
        "taucpr = 0\n",
        "tf1 = 0\n",
        "tdpr_eth = 0\n",
        "tdpd_eth = 0\n",
        "tdpr_ins = 0\n",
        "tdpd_ins = 0\n",
        "for i in range(iters):\n",
        "    X_train, X_test, y_train, y_test = train_test_split(X, y, test_size=0.3, random_state=i)\n",
        "\n",
        "    DT= DecisionTreeClassifier(random_state=i)\n",
        "    DT.fit(X_train, y_train)\n",
        "    y_pred = DT.predict(X_test)\n",
        "\n",
        "    aucpr = average_precision_score(y_test, y_pred)\n",
        "    f1 = f1_score(y_test, y_pred)\n",
        "\n",
        "    dpr_eth = demographic_parity_ratio(y_true=y_test, y_pred=y_pred, sensitive_features=X_test['ethnicity'])\n",
        "    dpd_eth = demographic_parity_difference(y_true=y_test, y_pred=y_pred, sensitive_features=X_test['ethnicity'])\n",
        "    dpr_ins = demographic_parity_ratio(y_true=y_test, y_pred=y_pred, sensitive_features=X_test['insurance'])\n",
        "    dpd_ins = demographic_parity_difference(y_true=y_test, y_pred=y_pred, sensitive_features=X_test['insurance'])\n",
        "\n",
        "    taucpr += aucpr\n",
        "    tf1 += f1\n",
        "    tdpr_eth += dpr_eth\n",
        "    tdpd_eth += dpd_eth\n",
        "    tdpr_ins += dpr_ins\n",
        "    tdpd_ins += dpd_ins\n",
        "\n",
        "metric_eval['MultiFairGAN w/ DPR (Ethnicity) (Two-cycle Strategy)'] = [data_dpr_eth, data_dpd_eth, data_dpr_ins, data_dpd_ins, taucpr/iters, tf1/iters, tdpr_eth/iters, tdpd_eth/iters, tdpr_ins/iters, tdpd_ins/iters]"
      ],
      "metadata": {
        "id": "Pe8RBREOMsae"
      },
      "execution_count": 33,
      "outputs": []
    },
    {
      "cell_type": "markdown",
      "source": [
        "##  MultiFairGAN w/ DPD (Ethnicity) (Two-cycle Strategy)"
      ],
      "metadata": {
        "id": "vh4CJN8BMsae"
      }
    },
    {
      "cell_type": "code",
      "source": [
        "for feat in cat_features:\n",
        "    proposed_dpd_ethn[feat] = LabelEncoder().fit_transform(proposed_dpd_ethn[feat])"
      ],
      "metadata": {
        "id": "YCtoKUisMsae"
      },
      "execution_count": 34,
      "outputs": []
    },
    {
      "cell_type": "code",
      "source": [
        "proposed_dpd_ethn = proposed_dpd_ethn.drop(columns=[\"dnr_first\", \"dnr\",\"fullcode_first\", \"discharge_location\",\"fullcode\"])"
      ],
      "metadata": {
        "id": "PIBs0VN2Msae"
      },
      "execution_count": 35,
      "outputs": []
    },
    {
      "cell_type": "code",
      "source": [
        "X = proposed_dpd_ethn.drop(columns=['hospital_expire_flag'])\n",
        "y = proposed_dpd_ethn['hospital_expire_flag']\n",
        "\n",
        "data_dpr_eth = demographic_parity_ratio(y_true=y, y_pred=y, sensitive_features=X['ethnicity'])\n",
        "data_dpd_eth = demographic_parity_difference(y_true=y, y_pred=y, sensitive_features=X['ethnicity'])\n",
        "data_dpr_ins = demographic_parity_ratio(y_true=y, y_pred=y, sensitive_features=X['insurance'])\n",
        "data_dpd_ins = demographic_parity_difference(y_true=y, y_pred=y, sensitive_features=X['insurance'])\n",
        "\n",
        "taucpr = 0\n",
        "tf1 = 0\n",
        "tdpr_eth = 0\n",
        "tdpd_eth = 0\n",
        "tdpr_ins = 0\n",
        "tdpd_ins = 0\n",
        "for i in range(iters):\n",
        "    X_train, X_test, y_train, y_test = train_test_split(X, y, test_size=0.3, random_state=i)\n",
        "\n",
        "    DT= DecisionTreeClassifier(random_state=i)\n",
        "    DT.fit(X_train, y_train)\n",
        "    y_pred = DT.predict(X_test)\n",
        "\n",
        "    aucpr = average_precision_score(y_test, y_pred)\n",
        "    f1 = f1_score(y_test, y_pred)\n",
        "\n",
        "    dpr_eth = demographic_parity_ratio(y_true=y_test, y_pred=y_pred, sensitive_features=X_test['ethnicity'])\n",
        "    dpd_eth = demographic_parity_difference(y_true=y_test, y_pred=y_pred, sensitive_features=X_test['ethnicity'])\n",
        "    dpr_ins = demographic_parity_ratio(y_true=y_test, y_pred=y_pred, sensitive_features=X_test['insurance'])\n",
        "    dpd_ins = demographic_parity_difference(y_true=y_test, y_pred=y_pred, sensitive_features=X_test['insurance'])\n",
        "\n",
        "    taucpr += aucpr\n",
        "    tf1 += f1\n",
        "    tdpr_eth += dpr_eth\n",
        "    tdpd_eth += dpd_eth\n",
        "    tdpr_ins += dpr_ins\n",
        "    tdpd_ins += dpd_ins\n",
        "\n",
        "metric_eval['MultiFairGAN w/ DPD (Ethnicity) (Two-cycle Strategy)'] = [data_dpr_eth, data_dpd_eth, data_dpr_ins, data_dpd_ins, taucpr/iters, tf1/iters, tdpr_eth/iters, tdpd_eth/iters, tdpr_ins/iters, tdpd_ins/iters]"
      ],
      "metadata": {
        "id": "bZLo0xByMsaf"
      },
      "execution_count": 36,
      "outputs": []
    },
    {
      "cell_type": "markdown",
      "source": [
        "##  MultiFairGAN w/ DPR (Ethnicity) (Additive Fairness Loss Strategy)"
      ],
      "metadata": {
        "id": "hrPSWJ1gMsaf"
      }
    },
    {
      "cell_type": "code",
      "source": [
        "for feat in cat_features:\n",
        "    proposed_additive_dpr_ethn[feat] = LabelEncoder().fit_transform(proposed_additive_dpr_ethn[feat])"
      ],
      "metadata": {
        "id": "O_tqkTg2Msaf"
      },
      "execution_count": 37,
      "outputs": []
    },
    {
      "cell_type": "code",
      "source": [
        "proposed_additive_dpr_ethn = proposed_additive_dpr_ethn.drop(columns=[\"dnr_first\", \"dnr\",\"fullcode_first\", \"discharge_location\",\"fullcode\"])"
      ],
      "metadata": {
        "id": "9ODQaJkRMsaf"
      },
      "execution_count": 38,
      "outputs": []
    },
    {
      "cell_type": "code",
      "source": [
        "X = proposed_additive_dpr_ethn.drop(columns=['hospital_expire_flag'])\n",
        "y = proposed_additive_dpr_ethn['hospital_expire_flag']\n",
        "\n",
        "data_dpr_eth = demographic_parity_ratio(y_true=y, y_pred=y, sensitive_features=X['ethnicity'])\n",
        "data_dpd_eth = demographic_parity_difference(y_true=y, y_pred=y, sensitive_features=X['ethnicity'])\n",
        "data_dpr_ins = demographic_parity_ratio(y_true=y, y_pred=y, sensitive_features=X['insurance'])\n",
        "data_dpd_ins = demographic_parity_difference(y_true=y, y_pred=y, sensitive_features=X['insurance'])\n",
        "\n",
        "taucpr = 0\n",
        "tf1 = 0\n",
        "tdpr_eth = 0\n",
        "tdpd_eth = 0\n",
        "tdpr_ins = 0\n",
        "tdpd_ins = 0\n",
        "for i in range(iters):\n",
        "    X_train, X_test, y_train, y_test = train_test_split(X, y, test_size=0.3, random_state=i)\n",
        "\n",
        "    DT= DecisionTreeClassifier(random_state=i)\n",
        "    DT.fit(X_train, y_train)\n",
        "    y_pred = DT.predict(X_test)\n",
        "\n",
        "    aucpr = average_precision_score(y_test, y_pred)\n",
        "    f1 = f1_score(y_test, y_pred)\n",
        "\n",
        "    dpr_eth = demographic_parity_ratio(y_true=y_test, y_pred=y_pred, sensitive_features=X_test['ethnicity'])\n",
        "    dpd_eth = demographic_parity_difference(y_true=y_test, y_pred=y_pred, sensitive_features=X_test['ethnicity'])\n",
        "    dpr_ins = demographic_parity_ratio(y_true=y_test, y_pred=y_pred, sensitive_features=X_test['insurance'])\n",
        "    dpd_ins = demographic_parity_difference(y_true=y_test, y_pred=y_pred, sensitive_features=X_test['insurance'])\n",
        "\n",
        "    taucpr += aucpr\n",
        "    tf1 += f1\n",
        "    tdpr_eth += dpr_eth\n",
        "    tdpd_eth += dpd_eth\n",
        "    tdpr_ins += dpr_ins\n",
        "    tdpd_ins += dpd_ins\n",
        "\n",
        "metric_eval['MultiFairGAN w/ DPR (Ethnicity) (Additive Fairness Loss Strategy)'] = [data_dpr_eth, data_dpd_eth, data_dpr_ins, data_dpd_ins, taucpr/iters, tf1/iters, tdpr_eth/iters, tdpd_eth/iters, tdpr_ins/iters, tdpd_ins/iters]"
      ],
      "metadata": {
        "id": "gislWG-FMsaf"
      },
      "execution_count": 39,
      "outputs": []
    },
    {
      "cell_type": "markdown",
      "source": [
        "##  MultiFairGAN w/ DPD (Ethnicity) (Additive Fairness Loss Strategy)"
      ],
      "metadata": {
        "id": "wsuxSPOPMsaf"
      }
    },
    {
      "cell_type": "code",
      "source": [
        "for feat in cat_features:\n",
        "    proposed_additive_dpd_ethn[feat] = LabelEncoder().fit_transform(proposed_additive_dpd_ethn[feat])"
      ],
      "metadata": {
        "id": "Is79EfePMsag"
      },
      "execution_count": 40,
      "outputs": []
    },
    {
      "cell_type": "code",
      "source": [
        "proposed_additive_dpd_ethn = proposed_additive_dpd_ethn.drop(columns=[\"dnr_first\", \"dnr\",\"fullcode_first\", \"discharge_location\",\"fullcode\"])"
      ],
      "metadata": {
        "id": "m3Dsr1VcMsag"
      },
      "execution_count": 41,
      "outputs": []
    },
    {
      "cell_type": "code",
      "source": [
        "X = proposed_additive_dpd_ethn.drop(columns=['hospital_expire_flag'])\n",
        "y = proposed_additive_dpd_ethn['hospital_expire_flag']\n",
        "\n",
        "data_dpr_eth = demographic_parity_ratio(y_true=y, y_pred=y, sensitive_features=X['ethnicity'])\n",
        "data_dpd_eth = demographic_parity_difference(y_true=y, y_pred=y, sensitive_features=X['ethnicity'])\n",
        "data_dpr_ins = demographic_parity_ratio(y_true=y, y_pred=y, sensitive_features=X['insurance'])\n",
        "data_dpd_ins = demographic_parity_difference(y_true=y, y_pred=y, sensitive_features=X['insurance'])\n",
        "\n",
        "taucpr = 0\n",
        "tf1 = 0\n",
        "tdpr_eth = 0\n",
        "tdpd_eth = 0\n",
        "tdpr_ins = 0\n",
        "tdpd_ins = 0\n",
        "for i in range(iters):\n",
        "    X_train, X_test, y_train, y_test = train_test_split(X, y, test_size=0.3, random_state=i)\n",
        "\n",
        "    DT= DecisionTreeClassifier(random_state=i)\n",
        "    DT.fit(X_train, y_train)\n",
        "    y_pred = DT.predict(X_test)\n",
        "\n",
        "    aucpr = average_precision_score(y_test, y_pred)\n",
        "    f1 = f1_score(y_test, y_pred)\n",
        "\n",
        "    dpr_eth = demographic_parity_ratio(y_true=y_test, y_pred=y_pred, sensitive_features=X_test['ethnicity'])\n",
        "    dpd_eth = demographic_parity_difference(y_true=y_test, y_pred=y_pred, sensitive_features=X_test['ethnicity'])\n",
        "    dpr_ins = demographic_parity_ratio(y_true=y_test, y_pred=y_pred, sensitive_features=X_test['insurance'])\n",
        "    dpd_ins = demographic_parity_difference(y_true=y_test, y_pred=y_pred, sensitive_features=X_test['insurance'])\n",
        "\n",
        "    taucpr += aucpr\n",
        "    tf1 += f1\n",
        "    tdpr_eth += dpr_eth\n",
        "    tdpd_eth += dpd_eth\n",
        "    tdpr_ins += dpr_ins\n",
        "    tdpd_ins += dpd_ins\n",
        "\n",
        "metric_eval['MultiFairGAN w/ DPD (Ethnicity) (Additive Fairness Loss Strategy)'] = [data_dpr_eth, data_dpd_eth, data_dpr_ins, data_dpd_ins, taucpr/iters, tf1/iters, tdpr_eth/iters, tdpd_eth/iters, tdpr_ins/iters, tdpd_ins/iters]"
      ],
      "metadata": {
        "id": "glDL13irMsag"
      },
      "execution_count": 42,
      "outputs": []
    },
    {
      "cell_type": "markdown",
      "source": [
        "## Results"
      ],
      "metadata": {
        "id": "pD8hsYX80a_E"
      }
    },
    {
      "cell_type": "code",
      "source": [
        "metric_eval_df = pd.DataFrame(metric_eval, index=['DPR - Ethnicity', 'DPD - Ethnicity', 'DPR - Insurance', 'DPD - Insurance', 'AUC PR', 'F1-Score', 'DPR Classifier - Ethnicity', 'DPD Classifier - Ethnicity', 'DPR Classifier - Insurance', 'DPD Classifier - Insurance'])\n",
        "metric_eval_df"
      ],
      "metadata": {
        "colab": {
          "base_uri": "https://localhost:8080/",
          "height": 728
        },
        "id": "H_QQ9JC0s8yx",
        "outputId": "6ecdb882-5636-4fc1-ccb6-263313524a47"
      },
      "execution_count": 43,
      "outputs": [
        {
          "output_type": "execute_result",
          "data": {
            "text/plain": [
              "                            Real Data     CTGAN  TabFairGAN  \\\n",
              "DPR - Ethnicity              0.623910  0.912609    0.345568   \n",
              "DPD - Ethnicity              0.052548  0.020701    0.195792   \n",
              "DPR - Insurance              0.443404  0.275869    0.175038   \n",
              "DPD - Insurance              0.086147  0.256274    0.256881   \n",
              "AUC PR                       0.208664  0.303903    0.199629   \n",
              "F1-Score                     0.357705  0.409600    0.312579   \n",
              "DPR Classifier - Ethnicity   0.803316  0.927479    0.362373   \n",
              "DPD Classifier - Ethnicity   0.029615  0.018689    0.194000   \n",
              "DPR Classifier - Insurance   0.465938  0.292037    0.163952   \n",
              "DPD Classifier - Insurance   0.091702  0.258532    0.288160   \n",
              "\n",
              "                            Distance Correlation GAN  \\\n",
              "DPR - Ethnicity                             0.019154   \n",
              "DPD - Ethnicity                             0.958727   \n",
              "DPR - Insurance                             0.495247   \n",
              "DPD - Insurance                             0.336502   \n",
              "AUC PR                                      0.946718   \n",
              "F1-Score                                    0.964270   \n",
              "DPR Classifier - Ethnicity                  0.010803   \n",
              "DPD Classifier - Ethnicity                  0.974266   \n",
              "DPR Classifier - Insurance                  0.392177   \n",
              "DPD Classifier - Insurance                  0.476486   \n",
              "\n",
              "                            MultiFairGAN w/ DPR (Ethnicity and Insurance) (Two-cycle Strategy)  \\\n",
              "DPR - Ethnicity                                                      0.984140                    \n",
              "DPD - Ethnicity                                                      0.007687                    \n",
              "DPR - Insurance                                                      0.943503                    \n",
              "DPD - Insurance                                                      0.027736                    \n",
              "AUC PR                                                               0.485465                    \n",
              "F1-Score                                                             0.483874                    \n",
              "DPR Classifier - Ethnicity                                           0.968202                    \n",
              "DPD Classifier - Ethnicity                                           0.015484                    \n",
              "DPR Classifier - Insurance                                           0.886886                    \n",
              "DPD Classifier - Insurance                                           0.057028                    \n",
              "\n",
              "                            MultiFairGAN w/ DPD (Ethnicity and Insurance) (Two-cycle Strategy)  \\\n",
              "DPR - Ethnicity                                                      0.991424                    \n",
              "DPD - Ethnicity                                                      0.004335                    \n",
              "DPR - Insurance                                                      0.964204                    \n",
              "DPD - Insurance                                                      0.018321                    \n",
              "AUC PR                                                               0.504939                    \n",
              "F1-Score                                                             0.506668                    \n",
              "DPR Classifier - Ethnicity                                           0.973168                    \n",
              "DPD Classifier - Ethnicity                                           0.013727                    \n",
              "DPR Classifier - Insurance                                           0.891830                    \n",
              "DPD Classifier - Insurance                                           0.057894                    \n",
              "\n",
              "                            MultiFairGAN w/ DPR (Ethnicity and Insurance) (Additive Fairness Loss Strategy)  \\\n",
              "DPR - Ethnicity                                                      0.924501                                 \n",
              "DPD - Ethnicity                                                      0.018140                                 \n",
              "DPR - Insurance                                                      0.315560                                 \n",
              "DPD - Insurance                                                      0.285784                                 \n",
              "AUC PR                                                               0.276649                                 \n",
              "F1-Score                                                             0.355349                                 \n",
              "DPR Classifier - Ethnicity                                           0.912367                                 \n",
              "DPD Classifier - Ethnicity                                           0.024091                                 \n",
              "DPR Classifier - Insurance                                           0.366107                                 \n",
              "DPD Classifier - Insurance                                           0.259343                                 \n",
              "\n",
              "                            MultiFairGAN w/ DPD (Ethnicity and Insurance) (Additive Fairness Loss Strategy)  \\\n",
              "DPR - Ethnicity                                                      0.682552                                 \n",
              "DPD - Ethnicity                                                      0.076932                                 \n",
              "DPR - Insurance                                                      0.474610                                 \n",
              "DPD - Insurance                                                      0.137637                                 \n",
              "AUC PR                                                               0.336339                                 \n",
              "F1-Score                                                             0.460148                                 \n",
              "DPR Classifier - Ethnicity                                           0.747945                                 \n",
              "DPD Classifier - Ethnicity                                           0.063297                                 \n",
              "DPR Classifier - Insurance                                           0.473924                                 \n",
              "DPD Classifier - Insurance                                           0.169522                                 \n",
              "\n",
              "                            MultiFairGAN w/ DPR (Ethnicity) (Two-cycle Strategy)  \\\n",
              "DPR - Ethnicity                                                      0.991377      \n",
              "DPD - Ethnicity                                                      0.004131      \n",
              "DPR - Insurance                                                      0.868500      \n",
              "DPD - Insurance                                                      0.069170      \n",
              "AUC PR                                                               0.482789      \n",
              "F1-Score                                                             0.485166      \n",
              "DPR Classifier - Ethnicity                                           0.962754      \n",
              "DPD Classifier - Ethnicity                                           0.018135      \n",
              "DPR Classifier - Insurance                                           0.853138      \n",
              "DPD Classifier - Insurance                                           0.078729      \n",
              "\n",
              "                            MultiFairGAN w/ DPD (Ethnicity) (Two-cycle Strategy)  \\\n",
              "DPR - Ethnicity                                                      0.964758      \n",
              "DPD - Ethnicity                                                      0.017520      \n",
              "DPR - Insurance                                                      0.919672      \n",
              "DPD - Insurance                                                      0.041130      \n",
              "AUC PR                                                               0.488397      \n",
              "F1-Score                                                             0.487096      \n",
              "DPR Classifier - Ethnicity                                           0.965020      \n",
              "DPD Classifier - Ethnicity                                           0.017695      \n",
              "DPR Classifier - Insurance                                           0.853317      \n",
              "DPD Classifier - Insurance                                           0.079930      \n",
              "\n",
              "                            MultiFairGAN w/ DPR (Ethnicity) (Additive Fairness Loss Strategy)  \\\n",
              "DPR - Ethnicity                                                      0.840568                   \n",
              "DPD - Ethnicity                                                      0.030989                   \n",
              "DPR - Insurance                                                      0.410019                   \n",
              "DPD - Insurance                                                      0.149038                   \n",
              "AUC PR                                                               0.239911                   \n",
              "F1-Score                                                             0.342982                   \n",
              "DPR Classifier - Ethnicity                                           0.930947                   \n",
              "DPD Classifier - Ethnicity                                           0.014512                   \n",
              "DPR Classifier - Insurance                                           0.429768                   \n",
              "DPD Classifier - Insurance                                           0.156535                   \n",
              "\n",
              "                            MultiFairGAN w/ DPD (Ethnicity) (Additive Fairness Loss Strategy)  \n",
              "DPR - Ethnicity                                                      0.965623                  \n",
              "DPD - Ethnicity                                                      0.008233                  \n",
              "DPR - Insurance                                                      0.404146                  \n",
              "DPD - Insurance                                                      0.205735                  \n",
              "AUC PR                                                               0.301934                  \n",
              "F1-Score                                                             0.395431                  \n",
              "DPR Classifier - Ethnicity                                           0.928670                  \n",
              "DPD Classifier - Ethnicity                                           0.018678                  \n",
              "DPR Classifier - Insurance                                           0.418110                  \n",
              "DPD Classifier - Insurance                                           0.224937                  "
            ],
            "text/html": [
              "\n",
              "  <div id=\"df-1e9cc21d-994b-450a-b1b6-db4a67e8bdcd\" class=\"colab-df-container\">\n",
              "    <div>\n",
              "<style scoped>\n",
              "    .dataframe tbody tr th:only-of-type {\n",
              "        vertical-align: middle;\n",
              "    }\n",
              "\n",
              "    .dataframe tbody tr th {\n",
              "        vertical-align: top;\n",
              "    }\n",
              "\n",
              "    .dataframe thead th {\n",
              "        text-align: right;\n",
              "    }\n",
              "</style>\n",
              "<table border=\"1\" class=\"dataframe\">\n",
              "  <thead>\n",
              "    <tr style=\"text-align: right;\">\n",
              "      <th></th>\n",
              "      <th>Real Data</th>\n",
              "      <th>CTGAN</th>\n",
              "      <th>TabFairGAN</th>\n",
              "      <th>Distance Correlation GAN</th>\n",
              "      <th>MultiFairGAN w/ DPR (Ethnicity and Insurance) (Two-cycle Strategy)</th>\n",
              "      <th>MultiFairGAN w/ DPD (Ethnicity and Insurance) (Two-cycle Strategy)</th>\n",
              "      <th>MultiFairGAN w/ DPR (Ethnicity and Insurance) (Additive Fairness Loss Strategy)</th>\n",
              "      <th>MultiFairGAN w/ DPD (Ethnicity and Insurance) (Additive Fairness Loss Strategy)</th>\n",
              "      <th>MultiFairGAN w/ DPR (Ethnicity) (Two-cycle Strategy)</th>\n",
              "      <th>MultiFairGAN w/ DPD (Ethnicity) (Two-cycle Strategy)</th>\n",
              "      <th>MultiFairGAN w/ DPR (Ethnicity) (Additive Fairness Loss Strategy)</th>\n",
              "      <th>MultiFairGAN w/ DPD (Ethnicity) (Additive Fairness Loss Strategy)</th>\n",
              "    </tr>\n",
              "  </thead>\n",
              "  <tbody>\n",
              "    <tr>\n",
              "      <th>DPR - Ethnicity</th>\n",
              "      <td>0.623910</td>\n",
              "      <td>0.912609</td>\n",
              "      <td>0.345568</td>\n",
              "      <td>0.019154</td>\n",
              "      <td>0.984140</td>\n",
              "      <td>0.991424</td>\n",
              "      <td>0.924501</td>\n",
              "      <td>0.682552</td>\n",
              "      <td>0.991377</td>\n",
              "      <td>0.964758</td>\n",
              "      <td>0.840568</td>\n",
              "      <td>0.965623</td>\n",
              "    </tr>\n",
              "    <tr>\n",
              "      <th>DPD - Ethnicity</th>\n",
              "      <td>0.052548</td>\n",
              "      <td>0.020701</td>\n",
              "      <td>0.195792</td>\n",
              "      <td>0.958727</td>\n",
              "      <td>0.007687</td>\n",
              "      <td>0.004335</td>\n",
              "      <td>0.018140</td>\n",
              "      <td>0.076932</td>\n",
              "      <td>0.004131</td>\n",
              "      <td>0.017520</td>\n",
              "      <td>0.030989</td>\n",
              "      <td>0.008233</td>\n",
              "    </tr>\n",
              "    <tr>\n",
              "      <th>DPR - Insurance</th>\n",
              "      <td>0.443404</td>\n",
              "      <td>0.275869</td>\n",
              "      <td>0.175038</td>\n",
              "      <td>0.495247</td>\n",
              "      <td>0.943503</td>\n",
              "      <td>0.964204</td>\n",
              "      <td>0.315560</td>\n",
              "      <td>0.474610</td>\n",
              "      <td>0.868500</td>\n",
              "      <td>0.919672</td>\n",
              "      <td>0.410019</td>\n",
              "      <td>0.404146</td>\n",
              "    </tr>\n",
              "    <tr>\n",
              "      <th>DPD - Insurance</th>\n",
              "      <td>0.086147</td>\n",
              "      <td>0.256274</td>\n",
              "      <td>0.256881</td>\n",
              "      <td>0.336502</td>\n",
              "      <td>0.027736</td>\n",
              "      <td>0.018321</td>\n",
              "      <td>0.285784</td>\n",
              "      <td>0.137637</td>\n",
              "      <td>0.069170</td>\n",
              "      <td>0.041130</td>\n",
              "      <td>0.149038</td>\n",
              "      <td>0.205735</td>\n",
              "    </tr>\n",
              "    <tr>\n",
              "      <th>AUC PR</th>\n",
              "      <td>0.208664</td>\n",
              "      <td>0.303903</td>\n",
              "      <td>0.199629</td>\n",
              "      <td>0.946718</td>\n",
              "      <td>0.485465</td>\n",
              "      <td>0.504939</td>\n",
              "      <td>0.276649</td>\n",
              "      <td>0.336339</td>\n",
              "      <td>0.482789</td>\n",
              "      <td>0.488397</td>\n",
              "      <td>0.239911</td>\n",
              "      <td>0.301934</td>\n",
              "    </tr>\n",
              "    <tr>\n",
              "      <th>F1-Score</th>\n",
              "      <td>0.357705</td>\n",
              "      <td>0.409600</td>\n",
              "      <td>0.312579</td>\n",
              "      <td>0.964270</td>\n",
              "      <td>0.483874</td>\n",
              "      <td>0.506668</td>\n",
              "      <td>0.355349</td>\n",
              "      <td>0.460148</td>\n",
              "      <td>0.485166</td>\n",
              "      <td>0.487096</td>\n",
              "      <td>0.342982</td>\n",
              "      <td>0.395431</td>\n",
              "    </tr>\n",
              "    <tr>\n",
              "      <th>DPR Classifier - Ethnicity</th>\n",
              "      <td>0.803316</td>\n",
              "      <td>0.927479</td>\n",
              "      <td>0.362373</td>\n",
              "      <td>0.010803</td>\n",
              "      <td>0.968202</td>\n",
              "      <td>0.973168</td>\n",
              "      <td>0.912367</td>\n",
              "      <td>0.747945</td>\n",
              "      <td>0.962754</td>\n",
              "      <td>0.965020</td>\n",
              "      <td>0.930947</td>\n",
              "      <td>0.928670</td>\n",
              "    </tr>\n",
              "    <tr>\n",
              "      <th>DPD Classifier - Ethnicity</th>\n",
              "      <td>0.029615</td>\n",
              "      <td>0.018689</td>\n",
              "      <td>0.194000</td>\n",
              "      <td>0.974266</td>\n",
              "      <td>0.015484</td>\n",
              "      <td>0.013727</td>\n",
              "      <td>0.024091</td>\n",
              "      <td>0.063297</td>\n",
              "      <td>0.018135</td>\n",
              "      <td>0.017695</td>\n",
              "      <td>0.014512</td>\n",
              "      <td>0.018678</td>\n",
              "    </tr>\n",
              "    <tr>\n",
              "      <th>DPR Classifier - Insurance</th>\n",
              "      <td>0.465938</td>\n",
              "      <td>0.292037</td>\n",
              "      <td>0.163952</td>\n",
              "      <td>0.392177</td>\n",
              "      <td>0.886886</td>\n",
              "      <td>0.891830</td>\n",
              "      <td>0.366107</td>\n",
              "      <td>0.473924</td>\n",
              "      <td>0.853138</td>\n",
              "      <td>0.853317</td>\n",
              "      <td>0.429768</td>\n",
              "      <td>0.418110</td>\n",
              "    </tr>\n",
              "    <tr>\n",
              "      <th>DPD Classifier - Insurance</th>\n",
              "      <td>0.091702</td>\n",
              "      <td>0.258532</td>\n",
              "      <td>0.288160</td>\n",
              "      <td>0.476486</td>\n",
              "      <td>0.057028</td>\n",
              "      <td>0.057894</td>\n",
              "      <td>0.259343</td>\n",
              "      <td>0.169522</td>\n",
              "      <td>0.078729</td>\n",
              "      <td>0.079930</td>\n",
              "      <td>0.156535</td>\n",
              "      <td>0.224937</td>\n",
              "    </tr>\n",
              "  </tbody>\n",
              "</table>\n",
              "</div>\n",
              "    <div class=\"colab-df-buttons\">\n",
              "\n",
              "  <div class=\"colab-df-container\">\n",
              "    <button class=\"colab-df-convert\" onclick=\"convertToInteractive('df-1e9cc21d-994b-450a-b1b6-db4a67e8bdcd')\"\n",
              "            title=\"Convert this dataframe to an interactive table.\"\n",
              "            style=\"display:none;\">\n",
              "\n",
              "  <svg xmlns=\"http://www.w3.org/2000/svg\" height=\"24px\" viewBox=\"0 -960 960 960\">\n",
              "    <path d=\"M120-120v-720h720v720H120Zm60-500h600v-160H180v160Zm220 220h160v-160H400v160Zm0 220h160v-160H400v160ZM180-400h160v-160H180v160Zm440 0h160v-160H620v160ZM180-180h160v-160H180v160Zm440 0h160v-160H620v160Z\"/>\n",
              "  </svg>\n",
              "    </button>\n",
              "\n",
              "  <style>\n",
              "    .colab-df-container {\n",
              "      display:flex;\n",
              "      gap: 12px;\n",
              "    }\n",
              "\n",
              "    .colab-df-convert {\n",
              "      background-color: #E8F0FE;\n",
              "      border: none;\n",
              "      border-radius: 50%;\n",
              "      cursor: pointer;\n",
              "      display: none;\n",
              "      fill: #1967D2;\n",
              "      height: 32px;\n",
              "      padding: 0 0 0 0;\n",
              "      width: 32px;\n",
              "    }\n",
              "\n",
              "    .colab-df-convert:hover {\n",
              "      background-color: #E2EBFA;\n",
              "      box-shadow: 0px 1px 2px rgba(60, 64, 67, 0.3), 0px 1px 3px 1px rgba(60, 64, 67, 0.15);\n",
              "      fill: #174EA6;\n",
              "    }\n",
              "\n",
              "    .colab-df-buttons div {\n",
              "      margin-bottom: 4px;\n",
              "    }\n",
              "\n",
              "    [theme=dark] .colab-df-convert {\n",
              "      background-color: #3B4455;\n",
              "      fill: #D2E3FC;\n",
              "    }\n",
              "\n",
              "    [theme=dark] .colab-df-convert:hover {\n",
              "      background-color: #434B5C;\n",
              "      box-shadow: 0px 1px 3px 1px rgba(0, 0, 0, 0.15);\n",
              "      filter: drop-shadow(0px 1px 2px rgba(0, 0, 0, 0.3));\n",
              "      fill: #FFFFFF;\n",
              "    }\n",
              "  </style>\n",
              "\n",
              "    <script>\n",
              "      const buttonEl =\n",
              "        document.querySelector('#df-1e9cc21d-994b-450a-b1b6-db4a67e8bdcd button.colab-df-convert');\n",
              "      buttonEl.style.display =\n",
              "        google.colab.kernel.accessAllowed ? 'block' : 'none';\n",
              "\n",
              "      async function convertToInteractive(key) {\n",
              "        const element = document.querySelector('#df-1e9cc21d-994b-450a-b1b6-db4a67e8bdcd');\n",
              "        const dataTable =\n",
              "          await google.colab.kernel.invokeFunction('convertToInteractive',\n",
              "                                                    [key], {});\n",
              "        if (!dataTable) return;\n",
              "\n",
              "        const docLinkHtml = 'Like what you see? Visit the ' +\n",
              "          '<a target=\"_blank\" href=https://colab.research.google.com/notebooks/data_table.ipynb>data table notebook</a>'\n",
              "          + ' to learn more about interactive tables.';\n",
              "        element.innerHTML = '';\n",
              "        dataTable['output_type'] = 'display_data';\n",
              "        await google.colab.output.renderOutput(dataTable, element);\n",
              "        const docLink = document.createElement('div');\n",
              "        docLink.innerHTML = docLinkHtml;\n",
              "        element.appendChild(docLink);\n",
              "      }\n",
              "    </script>\n",
              "  </div>\n",
              "\n",
              "\n",
              "<div id=\"df-c7738549-e6bd-4939-840a-eae9495c0647\">\n",
              "  <button class=\"colab-df-quickchart\" onclick=\"quickchart('df-c7738549-e6bd-4939-840a-eae9495c0647')\"\n",
              "            title=\"Suggest charts.\"\n",
              "            style=\"display:none;\">\n",
              "\n",
              "<svg xmlns=\"http://www.w3.org/2000/svg\" height=\"24px\"viewBox=\"0 0 24 24\"\n",
              "     width=\"24px\">\n",
              "    <g>\n",
              "        <path d=\"M19 3H5c-1.1 0-2 .9-2 2v14c0 1.1.9 2 2 2h14c1.1 0 2-.9 2-2V5c0-1.1-.9-2-2-2zM9 17H7v-7h2v7zm4 0h-2V7h2v10zm4 0h-2v-4h2v4z\"/>\n",
              "    </g>\n",
              "</svg>\n",
              "  </button>\n",
              "\n",
              "<style>\n",
              "  .colab-df-quickchart {\n",
              "    background-color: #E8F0FE;\n",
              "    border: none;\n",
              "    border-radius: 50%;\n",
              "    cursor: pointer;\n",
              "    display: none;\n",
              "    fill: #1967D2;\n",
              "    height: 32px;\n",
              "    padding: 0 0 0 0;\n",
              "    width: 32px;\n",
              "  }\n",
              "\n",
              "  .colab-df-quickchart:hover {\n",
              "    background-color: #E2EBFA;\n",
              "    box-shadow: 0px 1px 2px rgba(60, 64, 67, 0.3), 0px 1px 3px 1px rgba(60, 64, 67, 0.15);\n",
              "    fill: #174EA6;\n",
              "  }\n",
              "\n",
              "  [theme=dark] .colab-df-quickchart {\n",
              "    background-color: #3B4455;\n",
              "    fill: #D2E3FC;\n",
              "  }\n",
              "\n",
              "  [theme=dark] .colab-df-quickchart:hover {\n",
              "    background-color: #434B5C;\n",
              "    box-shadow: 0px 1px 3px 1px rgba(0, 0, 0, 0.15);\n",
              "    filter: drop-shadow(0px 1px 2px rgba(0, 0, 0, 0.3));\n",
              "    fill: #FFFFFF;\n",
              "  }\n",
              "</style>\n",
              "\n",
              "  <script>\n",
              "    async function quickchart(key) {\n",
              "      const charts = await google.colab.kernel.invokeFunction(\n",
              "          'suggestCharts', [key], {});\n",
              "    }\n",
              "    (() => {\n",
              "      let quickchartButtonEl =\n",
              "        document.querySelector('#df-c7738549-e6bd-4939-840a-eae9495c0647 button');\n",
              "      quickchartButtonEl.style.display =\n",
              "        google.colab.kernel.accessAllowed ? 'block' : 'none';\n",
              "    })();\n",
              "  </script>\n",
              "</div>\n",
              "    </div>\n",
              "  </div>\n"
            ]
          },
          "metadata": {},
          "execution_count": 43
        }
      ]
    }
  ]
}